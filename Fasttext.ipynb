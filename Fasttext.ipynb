{
 "cells": [
  {
   "cell_type": "code",
   "execution_count": 2,
   "id": "a19ce9f3",
   "metadata": {},
   "outputs": [],
   "source": [
    " import fasttext"
   ]
  },
  {
   "cell_type": "code",
   "execution_count": 3,
   "id": "580d8a8c",
   "metadata": {},
   "outputs": [
    {
     "name": "stderr",
     "output_type": "stream",
     "text": [
      "Warning : `load_model` does not return WordVectorModel or SupervisedModel any more, but a `FastText` object which is very similar.\n"
     ]
    }
   ],
   "source": [
    "model_en = fasttext.load_model(\"cc.en.300.bin\")"
   ]
  },
  {
   "cell_type": "code",
   "execution_count": 4,
   "id": "55d391e7",
   "metadata": {},
   "outputs": [
    {
     "data": {
      "text/plain": [
       "[(0.7517593502998352, 'bad'),\n",
       " (0.7426098585128784, 'great'),\n",
       " (0.7299689054489136, 'decent'),\n",
       " (0.7123614549636841, 'nice'),\n",
       " (0.6796907186508179, 'Good'),\n",
       " (0.6737031936645508, 'excellent'),\n",
       " (0.669592022895813, 'goood'),\n",
       " (0.6602178812026978, 'ggod'),\n",
       " (0.6479219794273376, 'semi-good'),\n",
       " (0.6417751908302307, 'good.Good')]"
      ]
     },
     "execution_count": 4,
     "metadata": {},
     "output_type": "execute_result"
    }
   ],
   "source": [
    "model_en.get_nearest_neighbors(\"good\")"
   ]
  },
  {
   "cell_type": "code",
   "execution_count": 9,
   "id": "61660392",
   "metadata": {},
   "outputs": [
    {
     "data": {
      "text/plain": [
       "[(0.7517593502998352, 'bad'),\n",
       " (0.7426098585128784, 'great'),\n",
       " (0.7299689054489136, 'decent')]"
      ]
     },
     "execution_count": 9,
     "metadata": {},
     "output_type": "execute_result"
    }
   ],
   "source": [
    "model_en.get_nearest_neighbors(\"good\",k=3)"
   ]
  },
  {
   "cell_type": "code",
   "execution_count": 10,
   "id": "859d51cc",
   "metadata": {},
   "outputs": [
    {
     "data": {
      "text/plain": [
       "[(0.7307085394859314, 'visakhapatnam'),\n",
       " (0.722331702709198, 'hubli'),\n",
       " (0.7201293706893921, 'vijayawada')]"
      ]
     },
     "execution_count": 10,
     "metadata": {},
     "output_type": "execute_result"
    }
   ],
   "source": [
    "model_en.get_nearest_neighbors(\"vizag\",k=3)"
   ]
  },
  {
   "cell_type": "code",
   "execution_count": 5,
   "id": "595dcd83",
   "metadata": {},
   "outputs": [
    {
     "data": {
      "text/plain": [
       "array([-0.09213716, -0.0634383 ,  0.00173813,  0.13524324, -0.06561062,\n",
       "        0.00619071,  0.12609869, -0.01646539,  0.0174491 , -0.00126792,\n",
       "       -0.09709831,  0.02329333,  0.00996784,  0.00463419,  0.01587938,\n",
       "        0.00689824,  0.08575399, -0.01988525, -0.0601579 , -0.02327966,\n",
       "        0.01183712,  0.08217917,  0.01488847,  0.00902181,  0.00696296,\n",
       "       -0.06426616,  0.03345198, -0.02101481,  0.06767873,  0.03022419,\n",
       "        0.07203474, -0.05689922, -0.04370377,  0.00642597,  0.0439174 ,\n",
       "        0.0604848 , -0.00611545, -0.12256738, -0.03530414, -0.02696739,\n",
       "       -0.02058216,  0.00752347, -0.00686451,  0.0362783 , -0.03308735,\n",
       "        0.05801626,  0.00832448, -0.06336953, -0.05775082,  0.01089846,\n",
       "       -0.0925179 ,  0.01559984, -0.04079024,  0.0066871 , -0.06374165,\n",
       "        0.05881973,  0.07209535, -0.05387195, -0.14658651, -0.04046486,\n",
       "       -0.02507038, -0.04954465, -0.05224417, -0.06846938,  0.0467079 ,\n",
       "        0.00459271, -0.07522177,  0.03627685, -0.0698283 ,  0.0174791 ,\n",
       "       -0.03427085, -0.043176  ,  0.00764059,  0.05694873,  0.0064466 ,\n",
       "       -0.01078498,  0.02328758,  0.06951396,  0.05373847,  0.02533235,\n",
       "        0.04307906, -0.03298698, -0.01265992,  0.02883131,  0.01145704,\n",
       "       -0.03029559,  0.02814867,  0.09258693,  0.08908885,  0.21924517,\n",
       "        0.03836972,  0.05020344,  0.13716629, -0.00859585, -0.0113667 ,\n",
       "        0.10641211, -0.07889125,  0.08034115, -0.00441031, -0.04873084,\n",
       "        0.00183913,  0.06675661,  0.00995041,  0.03010932, -0.02987454,\n",
       "        0.02509423, -0.04333989, -0.0059728 , -0.00332469, -0.0522663 ,\n",
       "       -0.03281598,  0.12006998,  0.01166376, -0.03454734,  0.01907663,\n",
       "       -0.01262398, -0.02025696,  0.01866139,  0.05016267,  0.05604192,\n",
       "        0.04971652,  0.03597424, -0.00690809,  0.05734055,  0.05945349,\n",
       "        0.0261135 ,  0.01734888, -0.00711455, -0.1295353 ,  0.01600225,\n",
       "        0.00150194, -0.03631282, -0.00469453,  0.02215887, -0.00699799,\n",
       "       -0.02894606,  0.03908806,  0.0401371 , -0.03941151, -0.02646147,\n",
       "       -0.04718655,  0.02674983,  0.07485171,  0.03144611, -0.07028159,\n",
       "       -0.0424196 , -0.2054326 , -0.09083363, -0.01121964,  0.05520659,\n",
       "       -0.11916859,  0.00788128, -0.13444994, -0.01488061, -0.02091767,\n",
       "        0.09262317,  0.06291065, -0.02200251, -0.03655258,  0.02587264,\n",
       "        0.0447952 , -0.01287306, -0.0350248 , -0.02456109, -0.04746678,\n",
       "        0.00130645,  0.01147217, -0.00531678,  0.11162786,  0.0253936 ,\n",
       "       -0.03638908, -0.05931935, -0.00549408,  0.0074574 , -0.01289796,\n",
       "       -0.0719263 , -0.02486867, -0.04750141,  0.00194147, -0.1141203 ,\n",
       "        0.01648522,  0.05083858, -0.02679086, -0.04766015,  0.00518819,\n",
       "        0.04099732,  0.02709844, -0.06511603, -0.06652133, -0.07979076,\n",
       "        0.0491582 ,  0.05377757,  0.0200878 , -0.03799915, -0.02513728,\n",
       "        0.00410288, -0.04514588, -0.04708159, -0.00559349,  0.13073431,\n",
       "       -0.09549722,  0.16606593,  0.0221815 , -0.05887613, -0.02126267,\n",
       "        0.00425452, -0.05540022, -0.06286709, -0.05455609,  0.11610305,\n",
       "        0.12443443, -0.00741135,  0.01761745, -0.0075937 , -0.05616794,\n",
       "       -0.01676267,  0.07975771, -0.04046471,  0.07211975,  0.13321361,\n",
       "        0.07106   , -0.01443719,  0.02562447,  0.05690589, -0.0090815 ,\n",
       "       -0.00628489,  0.03647495,  0.00689165,  0.04463093,  0.01837448,\n",
       "        0.00218417, -0.02093561,  0.07896647, -0.05610979,  0.02535573,\n",
       "       -0.09674191, -0.03684152,  0.01628419,  0.00908958, -0.06135098,\n",
       "        0.05458912, -0.03850613,  0.03017449, -0.1417458 ,  0.17130415,\n",
       "       -0.05436675, -0.01079106,  0.04692602, -0.02894384, -0.0273016 ,\n",
       "        0.09735578, -0.13424474, -0.02024667, -0.04736632, -0.03244197,\n",
       "        0.00541304, -0.04343438, -0.0003211 ,  0.16816942,  0.03105447,\n",
       "       -0.03063404, -0.00045107,  0.04690041,  0.11270425, -0.13718411,\n",
       "        0.05740229,  0.00801181, -0.17329559,  0.03051268, -0.1268264 ,\n",
       "       -0.06074513, -0.03838078, -0.01737073,  0.12296247, -0.05316308,\n",
       "       -0.07613882,  0.02129988,  0.0121702 , -0.01287838,  0.0768657 ,\n",
       "       -0.26769733,  0.05321693, -0.12607867, -0.02812696,  0.07982896,\n",
       "       -0.02915069, -0.01767069, -0.10350563, -0.0471432 , -0.03033449,\n",
       "        0.08542065,  0.02928957, -0.11185424, -0.00142424,  0.0379483 ,\n",
       "        0.02438426, -0.01398861,  0.14165413, -0.05115522, -0.08859383],\n",
       "      dtype=float32)"
      ]
     },
     "execution_count": 5,
     "metadata": {},
     "output_type": "execute_result"
    }
   ],
   "source": [
    "model_en.get_word_vector(\"good\")"
   ]
  },
  {
   "cell_type": "code",
   "execution_count": 6,
   "id": "131bca3b",
   "metadata": {},
   "outputs": [
    {
     "data": {
      "text/plain": [
       "[(0.7148876190185547, 'delhi'),\n",
       " (0.6974374055862427, 'mumbai'),\n",
       " (0.648612916469574, 'jaipur'),\n",
       " (0.6349966526031494, 'kolkata'),\n",
       " (0.6279922723770142, 'pune'),\n",
       " (0.6277596354484558, 'bangalore'),\n",
       " (0.6044078469276428, 'hyderabad'),\n",
       " (0.6021745800971985, 'noida'),\n",
       " (0.6018899083137512, 'bhubaneswar'),\n",
       " (0.599077582359314, 'nashik')]"
      ]
     },
     "execution_count": 6,
     "metadata": {},
     "output_type": "execute_result"
    }
   ],
   "source": [
    "model_en.get_analogies(\"berlin\",\"germany\",\"india\")"
   ]
  },
  {
   "cell_type": "code",
   "execution_count": 7,
   "id": "3ca0409d",
   "metadata": {},
   "outputs": [
    {
     "data": {
      "text/plain": [
       "[(0.5302355885505676, 'reading'),\n",
       " (0.517051637172699, 'book.I'),\n",
       " (0.5137901306152344, 'book--and'),\n",
       " (0.5090512633323669, 'book.That'),\n",
       " (0.5005884766578674, 'book--it'),\n",
       " (0.49395182728767395, 'book--I'),\n",
       " (0.49293914437294006, 're-reading'),\n",
       " (0.49156999588012695, 'book.This'),\n",
       " (0.49107635021209717, 'reading--and'),\n",
       " (0.48960915207862854, 'book--the')]"
      ]
     },
     "execution_count": 7,
     "metadata": {},
     "output_type": "execute_result"
    }
   ],
   "source": [
    "model_en.get_analogies(\"driving\",\"car\",\"book\")"
   ]
  },
  {
   "cell_type": "markdown",
   "id": "30722c5b",
   "metadata": {},
   "source": [
    "## Creating own model "
   ]
  },
  {
   "cell_type": "code",
   "execution_count": 11,
   "id": "8c577c56",
   "metadata": {},
   "outputs": [],
   "source": [
    "import pandas as pd"
   ]
  },
  {
   "cell_type": "code",
   "execution_count": 12,
   "id": "2ed825c2",
   "metadata": {},
   "outputs": [],
   "source": [
    "df = pd.read_csv('Cleaned_Indian_Food_Dataset.csv')"
   ]
  },
  {
   "cell_type": "code",
   "execution_count": 13,
   "id": "fa392d63",
   "metadata": {},
   "outputs": [
    {
     "data": {
      "text/html": [
       "<div>\n",
       "<style scoped>\n",
       "    .dataframe tbody tr th:only-of-type {\n",
       "        vertical-align: middle;\n",
       "    }\n",
       "\n",
       "    .dataframe tbody tr th {\n",
       "        vertical-align: top;\n",
       "    }\n",
       "\n",
       "    .dataframe thead th {\n",
       "        text-align: right;\n",
       "    }\n",
       "</style>\n",
       "<table border=\"1\" class=\"dataframe\">\n",
       "  <thead>\n",
       "    <tr style=\"text-align: right;\">\n",
       "      <th></th>\n",
       "      <th>TranslatedRecipeName</th>\n",
       "      <th>TranslatedIngredients</th>\n",
       "      <th>TotalTimeInMins</th>\n",
       "      <th>Cuisine</th>\n",
       "      <th>TranslatedInstructions</th>\n",
       "      <th>URL</th>\n",
       "      <th>Cleaned-Ingredients</th>\n",
       "      <th>image-url</th>\n",
       "      <th>Ingredient-count</th>\n",
       "    </tr>\n",
       "  </thead>\n",
       "  <tbody>\n",
       "    <tr>\n",
       "      <th>0</th>\n",
       "      <td>Masala Karela Recipe</td>\n",
       "      <td>1 tablespoon Red Chilli powder,3 tablespoon Gr...</td>\n",
       "      <td>45</td>\n",
       "      <td>Indian</td>\n",
       "      <td>To begin making the Masala Karela Recipe,de-se...</td>\n",
       "      <td>https://www.archanaskitchen.com/masala-karela-...</td>\n",
       "      <td>salt,amchur (dry mango powder),karela (bitter ...</td>\n",
       "      <td>https://www.archanaskitchen.com/images/archana...</td>\n",
       "      <td>10</td>\n",
       "    </tr>\n",
       "    <tr>\n",
       "      <th>1</th>\n",
       "      <td>Spicy Tomato Rice (Recipe)</td>\n",
       "      <td>2 teaspoon cashew - or peanuts, 1/2 Teaspoon ...</td>\n",
       "      <td>15</td>\n",
       "      <td>South Indian Recipes</td>\n",
       "      <td>To make tomato puliogere, first cut the tomato...</td>\n",
       "      <td>https://www.archanaskitchen.com/spicy-tomato-r...</td>\n",
       "      <td>tomato,salt,chickpea lentils,green chilli,rice...</td>\n",
       "      <td>https://www.archanaskitchen.com/images/archana...</td>\n",
       "      <td>12</td>\n",
       "    </tr>\n",
       "    <tr>\n",
       "      <th>2</th>\n",
       "      <td>Ragi Semiya Upma Recipe - Ragi Millet Vermicel...</td>\n",
       "      <td>1 Onion - sliced,1 teaspoon White Urad Dal (Sp...</td>\n",
       "      <td>50</td>\n",
       "      <td>South Indian Recipes</td>\n",
       "      <td>To begin making the Ragi Vermicelli Recipe, fi...</td>\n",
       "      <td>https://www.archanaskitchen.com/ragi-vermicell...</td>\n",
       "      <td>salt,rice vermicelli noodles (thin),asafoetida...</td>\n",
       "      <td>https://www.archanaskitchen.com/images/archana...</td>\n",
       "      <td>12</td>\n",
       "    </tr>\n",
       "    <tr>\n",
       "      <th>3</th>\n",
       "      <td>Gongura Chicken Curry Recipe - Andhra Style Go...</td>\n",
       "      <td>1/2 teaspoon Turmeric powder (Haldi),1 tablesp...</td>\n",
       "      <td>45</td>\n",
       "      <td>Andhra</td>\n",
       "      <td>To begin making Gongura Chicken Curry Recipe f...</td>\n",
       "      <td>https://www.archanaskitchen.com/gongura-chicke...</td>\n",
       "      <td>tomato,salt,ginger,sorrel leaves (gongura),fen...</td>\n",
       "      <td>https://www.archanaskitchen.com/images/archana...</td>\n",
       "      <td>15</td>\n",
       "    </tr>\n",
       "    <tr>\n",
       "      <th>4</th>\n",
       "      <td>Andhra Style Alam Pachadi Recipe - Adrak Chutn...</td>\n",
       "      <td>oil - as per use, 1 tablespoon coriander seed...</td>\n",
       "      <td>30</td>\n",
       "      <td>Andhra</td>\n",
       "      <td>To make Andhra Style Alam Pachadi, first heat ...</td>\n",
       "      <td>https://www.archanaskitchen.com/andhra-style-a...</td>\n",
       "      <td>tomato,salt,ginger,red chillies,curry,asafoeti...</td>\n",
       "      <td>https://www.archanaskitchen.com/images/archana...</td>\n",
       "      <td>12</td>\n",
       "    </tr>\n",
       "    <tr>\n",
       "      <th>...</th>\n",
       "      <td>...</td>\n",
       "      <td>...</td>\n",
       "      <td>...</td>\n",
       "      <td>...</td>\n",
       "      <td>...</td>\n",
       "      <td>...</td>\n",
       "      <td>...</td>\n",
       "      <td>...</td>\n",
       "      <td>...</td>\n",
       "    </tr>\n",
       "    <tr>\n",
       "      <th>5933</th>\n",
       "      <td>Saffron Paneer Peda Recipe</td>\n",
       "      <td>2 teaspoons Rose water,1/2 teaspoon Ghee,2 cup...</td>\n",
       "      <td>20</td>\n",
       "      <td>Indian</td>\n",
       "      <td>To begin making the Saffron Paneer Peda recipe...</td>\n",
       "      <td>https://www.archanaskitchen.com/saffron-paneer...</td>\n",
       "      <td>saffron strands generous,ghee,paneer,rose wate...</td>\n",
       "      <td>https://www.archanaskitchen.com/images/archana...</td>\n",
       "      <td>7</td>\n",
       "    </tr>\n",
       "    <tr>\n",
       "      <th>5934</th>\n",
       "      <td>Italian Arancini Rice Balls Recipe With Delici...</td>\n",
       "      <td>4 sprig Basil leaves - finely chopped,2 cups W...</td>\n",
       "      <td>100</td>\n",
       "      <td>Italian Recipes</td>\n",
       "      <td>To begin making the Italian Arancini Rice Ball...</td>\n",
       "      <td>https://www.archanaskitchen.com/italian-aranci...</td>\n",
       "      <td>salt,gorgonzola cheese cubes,wheat bread crumb...</td>\n",
       "      <td>https://www.archanaskitchen.com/images/archana...</td>\n",
       "      <td>14</td>\n",
       "    </tr>\n",
       "    <tr>\n",
       "      <th>5935</th>\n",
       "      <td>Quinoa Phirnee Recipe (Quinoa Milk Pudding)</td>\n",
       "      <td>3/4 cup Sugar,2 cup Milk - vegans can substitu...</td>\n",
       "      <td>35</td>\n",
       "      <td>Indian</td>\n",
       "      <td>To begin making Quinoa Phirnee Recipe, place a...</td>\n",
       "      <td>https://www.archanaskitchen.com/quinoa-phirnee...</td>\n",
       "      <td>ghee,milk,saffron strands,sugar,cardamom powde...</td>\n",
       "      <td>https://www.archanaskitchen.com/images/archana...</td>\n",
       "      <td>8</td>\n",
       "    </tr>\n",
       "    <tr>\n",
       "      <th>5936</th>\n",
       "      <td>Ullikadala Pulusu Recipe | Spring Onion Curry</td>\n",
       "      <td>1 pinch Turmeric powder (Haldi),1/2 teaspoon M...</td>\n",
       "      <td>15</td>\n",
       "      <td>Andhra</td>\n",
       "      <td>To begin making Ullikadala Pulusu Recipe | Spr...</td>\n",
       "      <td>https://www.archanaskitchen.com/ullikadala-pul...</td>\n",
       "      <td>salt,tamarind water,mustard seeds,asafoetida (...</td>\n",
       "      <td>https://www.archanaskitchen.com/images/archana...</td>\n",
       "      <td>13</td>\n",
       "    </tr>\n",
       "    <tr>\n",
       "      <th>5937</th>\n",
       "      <td>Kashmiri Style Kokur Yakhni Recipe-Chicken Coo...</td>\n",
       "      <td>Salt - as required,3 to 4 Cloves (Laung),Ghee ...</td>\n",
       "      <td>75</td>\n",
       "      <td>Kashmiri</td>\n",
       "      <td>To begin making the Kashmiri Kokur Yakhni reci...</td>\n",
       "      <td>https://www.archanaskitchen.com/kashmiri-kokur...</td>\n",
       "      <td>black cardamom (badi elaichi),salt,mustard oil...</td>\n",
       "      <td>https://www.archanaskitchen.com/images/archana...</td>\n",
       "      <td>13</td>\n",
       "    </tr>\n",
       "  </tbody>\n",
       "</table>\n",
       "<p>5938 rows × 9 columns</p>\n",
       "</div>"
      ],
      "text/plain": [
       "                                   TranslatedRecipeName  \\\n",
       "0                                  Masala Karela Recipe   \n",
       "1                            Spicy Tomato Rice (Recipe)   \n",
       "2     Ragi Semiya Upma Recipe - Ragi Millet Vermicel...   \n",
       "3     Gongura Chicken Curry Recipe - Andhra Style Go...   \n",
       "4     Andhra Style Alam Pachadi Recipe - Adrak Chutn...   \n",
       "...                                                 ...   \n",
       "5933                         Saffron Paneer Peda Recipe   \n",
       "5934  Italian Arancini Rice Balls Recipe With Delici...   \n",
       "5935        Quinoa Phirnee Recipe (Quinoa Milk Pudding)   \n",
       "5936      Ullikadala Pulusu Recipe | Spring Onion Curry   \n",
       "5937  Kashmiri Style Kokur Yakhni Recipe-Chicken Coo...   \n",
       "\n",
       "                                  TranslatedIngredients  TotalTimeInMins  \\\n",
       "0     1 tablespoon Red Chilli powder,3 tablespoon Gr...               45   \n",
       "1      2 teaspoon cashew - or peanuts, 1/2 Teaspoon ...               15   \n",
       "2     1 Onion - sliced,1 teaspoon White Urad Dal (Sp...               50   \n",
       "3     1/2 teaspoon Turmeric powder (Haldi),1 tablesp...               45   \n",
       "4      oil - as per use, 1 tablespoon coriander seed...               30   \n",
       "...                                                 ...              ...   \n",
       "5933  2 teaspoons Rose water,1/2 teaspoon Ghee,2 cup...               20   \n",
       "5934  4 sprig Basil leaves - finely chopped,2 cups W...              100   \n",
       "5935  3/4 cup Sugar,2 cup Milk - vegans can substitu...               35   \n",
       "5936  1 pinch Turmeric powder (Haldi),1/2 teaspoon M...               15   \n",
       "5937  Salt - as required,3 to 4 Cloves (Laung),Ghee ...               75   \n",
       "\n",
       "                   Cuisine                             TranslatedInstructions  \\\n",
       "0                   Indian  To begin making the Masala Karela Recipe,de-se...   \n",
       "1     South Indian Recipes  To make tomato puliogere, first cut the tomato...   \n",
       "2     South Indian Recipes  To begin making the Ragi Vermicelli Recipe, fi...   \n",
       "3                   Andhra  To begin making Gongura Chicken Curry Recipe f...   \n",
       "4                   Andhra  To make Andhra Style Alam Pachadi, first heat ...   \n",
       "...                    ...                                                ...   \n",
       "5933                Indian  To begin making the Saffron Paneer Peda recipe...   \n",
       "5934       Italian Recipes  To begin making the Italian Arancini Rice Ball...   \n",
       "5935                Indian  To begin making Quinoa Phirnee Recipe, place a...   \n",
       "5936                Andhra  To begin making Ullikadala Pulusu Recipe | Spr...   \n",
       "5937              Kashmiri  To begin making the Kashmiri Kokur Yakhni reci...   \n",
       "\n",
       "                                                    URL  \\\n",
       "0     https://www.archanaskitchen.com/masala-karela-...   \n",
       "1     https://www.archanaskitchen.com/spicy-tomato-r...   \n",
       "2     https://www.archanaskitchen.com/ragi-vermicell...   \n",
       "3     https://www.archanaskitchen.com/gongura-chicke...   \n",
       "4     https://www.archanaskitchen.com/andhra-style-a...   \n",
       "...                                                 ...   \n",
       "5933  https://www.archanaskitchen.com/saffron-paneer...   \n",
       "5934  https://www.archanaskitchen.com/italian-aranci...   \n",
       "5935  https://www.archanaskitchen.com/quinoa-phirnee...   \n",
       "5936  https://www.archanaskitchen.com/ullikadala-pul...   \n",
       "5937  https://www.archanaskitchen.com/kashmiri-kokur...   \n",
       "\n",
       "                                    Cleaned-Ingredients  \\\n",
       "0     salt,amchur (dry mango powder),karela (bitter ...   \n",
       "1     tomato,salt,chickpea lentils,green chilli,rice...   \n",
       "2     salt,rice vermicelli noodles (thin),asafoetida...   \n",
       "3     tomato,salt,ginger,sorrel leaves (gongura),fen...   \n",
       "4     tomato,salt,ginger,red chillies,curry,asafoeti...   \n",
       "...                                                 ...   \n",
       "5933  saffron strands generous,ghee,paneer,rose wate...   \n",
       "5934  salt,gorgonzola cheese cubes,wheat bread crumb...   \n",
       "5935  ghee,milk,saffron strands,sugar,cardamom powde...   \n",
       "5936  salt,tamarind water,mustard seeds,asafoetida (...   \n",
       "5937  black cardamom (badi elaichi),salt,mustard oil...   \n",
       "\n",
       "                                              image-url  Ingredient-count  \n",
       "0     https://www.archanaskitchen.com/images/archana...                10  \n",
       "1     https://www.archanaskitchen.com/images/archana...                12  \n",
       "2     https://www.archanaskitchen.com/images/archana...                12  \n",
       "3     https://www.archanaskitchen.com/images/archana...                15  \n",
       "4     https://www.archanaskitchen.com/images/archana...                12  \n",
       "...                                                 ...               ...  \n",
       "5933  https://www.archanaskitchen.com/images/archana...                 7  \n",
       "5934  https://www.archanaskitchen.com/images/archana...                14  \n",
       "5935  https://www.archanaskitchen.com/images/archana...                 8  \n",
       "5936  https://www.archanaskitchen.com/images/archana...                13  \n",
       "5937  https://www.archanaskitchen.com/images/archana...                13  \n",
       "\n",
       "[5938 rows x 9 columns]"
      ]
     },
     "execution_count": 13,
     "metadata": {},
     "output_type": "execute_result"
    }
   ],
   "source": [
    "df"
   ]
  },
  {
   "cell_type": "code",
   "execution_count": 16,
   "id": "2c820551",
   "metadata": {},
   "outputs": [],
   "source": [
    "text = df['TranslatedInstructions'][0]"
   ]
  },
  {
   "cell_type": "code",
   "execution_count": 17,
   "id": "cc4a3a5e",
   "metadata": {},
   "outputs": [
    {
     "data": {
      "text/plain": [
       "'To begin making the Masala Karela Recipe,de-seed the karela and slice.\\nDo not remove the skin as the skin has all the nutrients.\\nAdd the karela to the pressure cooker with 3 tablespoon of water, salt and turmeric powder and pressure cook for three whistles.\\nRelease the pressure immediately and open the lids.\\nKeep aside.Heat oil in a heavy bottomed pan or a kadhai.\\nAdd cumin seeds and let it sizzle.Once the cumin seeds have sizzled, add onions and saute them till it turns golden brown in color.Add the karela, red chilli powder, amchur powder, coriander powder and besan.\\nStir to combine the masalas into the karela.Drizzle a little extra oil on the top and mix again.\\nCover the pan and simmer Masala Karela stirring occasionally until everything comes together well.\\nTurn off the heat.Transfer Masala Karela into a serving bowl and serve.Serve Masala Karela along with Panchmel Dal and Phulka for a weekday meal with your family.\\n'"
      ]
     },
     "execution_count": 17,
     "metadata": {},
     "output_type": "execute_result"
    }
   ],
   "source": [
    "text"
   ]
  },
  {
   "cell_type": "code",
   "execution_count": null,
   "id": "f76307ea",
   "metadata": {},
   "outputs": [],
   "source": [
    "text = 'To begin making the Masala Karela Recipe,de-seed the karela and slice.\\nDo not remove the skin as the skin has all the nutrients.\\nAdd the karela to the pressure cooker with 3 tablespoon of water, salt and turmeric powder and pressure cook for three whistles.\\nRelease the pressure immediately and open the lids.\\nKeep aside.Heat oil in a heavy bottomed pan or a kadhai.\\nAdd cumin seeds and let it sizzle.Once the cumin seeds have sizzled, add onions and saute them till it turns golden brown in color.Add the karela, red chilli powder, amchur powder, coriander powder and besan.\\nStir to combine the masalas into the karela.Drizzle a little extra oil on the top and mix again.\\nCover the pan and simmer Masala Karela stirring occasionally until everything comes together well.\\nTurn off the heat.Transfer Masala Karela into a serving bowl and serve.Serve Masala Karela along with Panchmel Dal and Phulka for a weekday meal with your family.\\n'"
   ]
  },
  {
   "cell_type": "code",
   "execution_count": 18,
   "id": "cd438230",
   "metadata": {},
   "outputs": [],
   "source": [
    "import re"
   ]
  },
  {
   "cell_type": "code",
   "execution_count": 25,
   "id": "e40d50fd",
   "metadata": {},
   "outputs": [
    {
     "data": {
      "text/plain": [
       "'To begin making the Masala Karela Recipe de seed the karela and slice \\nDo not remove the skin as the skin has all the nutrients \\nAdd the karela to the pressure cooker with 3 tablespoon of water  salt and turmeric powder and pressure cook for three whistles \\nRelease the pressure immediately and open the lids \\nKeep aside Heat oil in a heavy bottomed pan or a kadhai \\nAdd cumin seeds and let it sizzle Once the cumin seeds have sizzled  add onions and saute them till it turns golden brown in color Add the karela  red chilli powder  amchur powder  coriander powder and besan \\nStir to combine the masalas into the karela Drizzle a little extra oil on the top and mix again \\nCover the pan and simmer Masala Karela stirring occasionally until everything comes together well \\nTurn off the heat Transfer Masala Karela into a serving bowl and serve Serve Masala Karela along with Panchmel Dal and Phulka for a weekday meal with your family \\n'"
      ]
     },
     "execution_count": 25,
     "metadata": {},
     "output_type": "execute_result"
    }
   ],
   "source": [
    "re.sub(\"[^\\w\\s]\",\" \",text, flags=re.MULTILINE)"
   ]
  },
  {
   "cell_type": "code",
   "execution_count": 27,
   "id": "a3e64479",
   "metadata": {},
   "outputs": [],
   "source": [
    "def preprocess(text):\n",
    "    text = re.sub(\"[^\\w\\s]\",\" \",text, flags=re.MULTILINE)\n",
    "    text = re.sub(\"[ \\n]+\", \" \", text, flags=re.MULTILINE)\n",
    "    return text.strip().lower()"
   ]
  },
  {
   "cell_type": "code",
   "execution_count": 28,
   "id": "68abc8bd",
   "metadata": {},
   "outputs": [
    {
     "data": {
      "text/plain": [
       "'to begin making the masala karela recipe de seed the karela and slice do not remove the skin as the skin has all the nutrients add the karela to the pressure cooker with 3 tablespoon of water salt and turmeric powder and pressure cook for three whistles release the pressure immediately and open the lids keep aside heat oil in a heavy bottomed pan or a kadhai add cumin seeds and let it sizzle once the cumin seeds have sizzled add onions and saute them till it turns golden brown in color add the karela red chilli powder amchur powder coriander powder and besan stir to combine the masalas into the karela drizzle a little extra oil on the top and mix again cover the pan and simmer masala karela stirring occasionally until everything comes together well turn off the heat transfer masala karela into a serving bowl and serve serve masala karela along with panchmel dal and phulka for a weekday meal with your family'"
      ]
     },
     "execution_count": 28,
     "metadata": {},
     "output_type": "execute_result"
    }
   ],
   "source": [
    "preprocess(text)"
   ]
  },
  {
   "cell_type": "code",
   "execution_count": 29,
   "id": "934c9364",
   "metadata": {},
   "outputs": [],
   "source": [
    "df['TranslatedInstructions'] = df['TranslatedInstructions'].map(preprocess)"
   ]
  },
  {
   "cell_type": "code",
   "execution_count": 30,
   "id": "e9bc3d07",
   "metadata": {},
   "outputs": [
    {
     "data": {
      "text/html": [
       "<div>\n",
       "<style scoped>\n",
       "    .dataframe tbody tr th:only-of-type {\n",
       "        vertical-align: middle;\n",
       "    }\n",
       "\n",
       "    .dataframe tbody tr th {\n",
       "        vertical-align: top;\n",
       "    }\n",
       "\n",
       "    .dataframe thead th {\n",
       "        text-align: right;\n",
       "    }\n",
       "</style>\n",
       "<table border=\"1\" class=\"dataframe\">\n",
       "  <thead>\n",
       "    <tr style=\"text-align: right;\">\n",
       "      <th></th>\n",
       "      <th>TranslatedRecipeName</th>\n",
       "      <th>TranslatedIngredients</th>\n",
       "      <th>TotalTimeInMins</th>\n",
       "      <th>Cuisine</th>\n",
       "      <th>TranslatedInstructions</th>\n",
       "      <th>URL</th>\n",
       "      <th>Cleaned-Ingredients</th>\n",
       "      <th>image-url</th>\n",
       "      <th>Ingredient-count</th>\n",
       "    </tr>\n",
       "  </thead>\n",
       "  <tbody>\n",
       "    <tr>\n",
       "      <th>0</th>\n",
       "      <td>Masala Karela Recipe</td>\n",
       "      <td>1 tablespoon Red Chilli powder,3 tablespoon Gr...</td>\n",
       "      <td>45</td>\n",
       "      <td>Indian</td>\n",
       "      <td>to begin making the masala karela recipe de se...</td>\n",
       "      <td>https://www.archanaskitchen.com/masala-karela-...</td>\n",
       "      <td>salt,amchur (dry mango powder),karela (bitter ...</td>\n",
       "      <td>https://www.archanaskitchen.com/images/archana...</td>\n",
       "      <td>10</td>\n",
       "    </tr>\n",
       "    <tr>\n",
       "      <th>1</th>\n",
       "      <td>Spicy Tomato Rice (Recipe)</td>\n",
       "      <td>2 teaspoon cashew - or peanuts, 1/2 Teaspoon ...</td>\n",
       "      <td>15</td>\n",
       "      <td>South Indian Recipes</td>\n",
       "      <td>to make tomato puliogere first cut the tomatoe...</td>\n",
       "      <td>https://www.archanaskitchen.com/spicy-tomato-r...</td>\n",
       "      <td>tomato,salt,chickpea lentils,green chilli,rice...</td>\n",
       "      <td>https://www.archanaskitchen.com/images/archana...</td>\n",
       "      <td>12</td>\n",
       "    </tr>\n",
       "    <tr>\n",
       "      <th>2</th>\n",
       "      <td>Ragi Semiya Upma Recipe - Ragi Millet Vermicel...</td>\n",
       "      <td>1 Onion - sliced,1 teaspoon White Urad Dal (Sp...</td>\n",
       "      <td>50</td>\n",
       "      <td>South Indian Recipes</td>\n",
       "      <td>to begin making the ragi vermicelli recipe fir...</td>\n",
       "      <td>https://www.archanaskitchen.com/ragi-vermicell...</td>\n",
       "      <td>salt,rice vermicelli noodles (thin),asafoetida...</td>\n",
       "      <td>https://www.archanaskitchen.com/images/archana...</td>\n",
       "      <td>12</td>\n",
       "    </tr>\n",
       "    <tr>\n",
       "      <th>3</th>\n",
       "      <td>Gongura Chicken Curry Recipe - Andhra Style Go...</td>\n",
       "      <td>1/2 teaspoon Turmeric powder (Haldi),1 tablesp...</td>\n",
       "      <td>45</td>\n",
       "      <td>Andhra</td>\n",
       "      <td>to begin making gongura chicken curry recipe f...</td>\n",
       "      <td>https://www.archanaskitchen.com/gongura-chicke...</td>\n",
       "      <td>tomato,salt,ginger,sorrel leaves (gongura),fen...</td>\n",
       "      <td>https://www.archanaskitchen.com/images/archana...</td>\n",
       "      <td>15</td>\n",
       "    </tr>\n",
       "    <tr>\n",
       "      <th>4</th>\n",
       "      <td>Andhra Style Alam Pachadi Recipe - Adrak Chutn...</td>\n",
       "      <td>oil - as per use, 1 tablespoon coriander seed...</td>\n",
       "      <td>30</td>\n",
       "      <td>Andhra</td>\n",
       "      <td>to make andhra style alam pachadi first heat o...</td>\n",
       "      <td>https://www.archanaskitchen.com/andhra-style-a...</td>\n",
       "      <td>tomato,salt,ginger,red chillies,curry,asafoeti...</td>\n",
       "      <td>https://www.archanaskitchen.com/images/archana...</td>\n",
       "      <td>12</td>\n",
       "    </tr>\n",
       "    <tr>\n",
       "      <th>...</th>\n",
       "      <td>...</td>\n",
       "      <td>...</td>\n",
       "      <td>...</td>\n",
       "      <td>...</td>\n",
       "      <td>...</td>\n",
       "      <td>...</td>\n",
       "      <td>...</td>\n",
       "      <td>...</td>\n",
       "      <td>...</td>\n",
       "    </tr>\n",
       "    <tr>\n",
       "      <th>5933</th>\n",
       "      <td>Saffron Paneer Peda Recipe</td>\n",
       "      <td>2 teaspoons Rose water,1/2 teaspoon Ghee,2 cup...</td>\n",
       "      <td>20</td>\n",
       "      <td>Indian</td>\n",
       "      <td>to begin making the saffron paneer peda recipe...</td>\n",
       "      <td>https://www.archanaskitchen.com/saffron-paneer...</td>\n",
       "      <td>saffron strands generous,ghee,paneer,rose wate...</td>\n",
       "      <td>https://www.archanaskitchen.com/images/archana...</td>\n",
       "      <td>7</td>\n",
       "    </tr>\n",
       "    <tr>\n",
       "      <th>5934</th>\n",
       "      <td>Italian Arancini Rice Balls Recipe With Delici...</td>\n",
       "      <td>4 sprig Basil leaves - finely chopped,2 cups W...</td>\n",
       "      <td>100</td>\n",
       "      <td>Italian Recipes</td>\n",
       "      <td>to begin making the italian arancini rice ball...</td>\n",
       "      <td>https://www.archanaskitchen.com/italian-aranci...</td>\n",
       "      <td>salt,gorgonzola cheese cubes,wheat bread crumb...</td>\n",
       "      <td>https://www.archanaskitchen.com/images/archana...</td>\n",
       "      <td>14</td>\n",
       "    </tr>\n",
       "    <tr>\n",
       "      <th>5935</th>\n",
       "      <td>Quinoa Phirnee Recipe (Quinoa Milk Pudding)</td>\n",
       "      <td>3/4 cup Sugar,2 cup Milk - vegans can substitu...</td>\n",
       "      <td>35</td>\n",
       "      <td>Indian</td>\n",
       "      <td>to begin making quinoa phirnee recipe place a ...</td>\n",
       "      <td>https://www.archanaskitchen.com/quinoa-phirnee...</td>\n",
       "      <td>ghee,milk,saffron strands,sugar,cardamom powde...</td>\n",
       "      <td>https://www.archanaskitchen.com/images/archana...</td>\n",
       "      <td>8</td>\n",
       "    </tr>\n",
       "    <tr>\n",
       "      <th>5936</th>\n",
       "      <td>Ullikadala Pulusu Recipe | Spring Onion Curry</td>\n",
       "      <td>1 pinch Turmeric powder (Haldi),1/2 teaspoon M...</td>\n",
       "      <td>15</td>\n",
       "      <td>Andhra</td>\n",
       "      <td>to begin making ullikadala pulusu recipe sprin...</td>\n",
       "      <td>https://www.archanaskitchen.com/ullikadala-pul...</td>\n",
       "      <td>salt,tamarind water,mustard seeds,asafoetida (...</td>\n",
       "      <td>https://www.archanaskitchen.com/images/archana...</td>\n",
       "      <td>13</td>\n",
       "    </tr>\n",
       "    <tr>\n",
       "      <th>5937</th>\n",
       "      <td>Kashmiri Style Kokur Yakhni Recipe-Chicken Coo...</td>\n",
       "      <td>Salt - as required,3 to 4 Cloves (Laung),Ghee ...</td>\n",
       "      <td>75</td>\n",
       "      <td>Kashmiri</td>\n",
       "      <td>to begin making the kashmiri kokur yakhni reci...</td>\n",
       "      <td>https://www.archanaskitchen.com/kashmiri-kokur...</td>\n",
       "      <td>black cardamom (badi elaichi),salt,mustard oil...</td>\n",
       "      <td>https://www.archanaskitchen.com/images/archana...</td>\n",
       "      <td>13</td>\n",
       "    </tr>\n",
       "  </tbody>\n",
       "</table>\n",
       "<p>5938 rows × 9 columns</p>\n",
       "</div>"
      ],
      "text/plain": [
       "                                   TranslatedRecipeName  \\\n",
       "0                                  Masala Karela Recipe   \n",
       "1                            Spicy Tomato Rice (Recipe)   \n",
       "2     Ragi Semiya Upma Recipe - Ragi Millet Vermicel...   \n",
       "3     Gongura Chicken Curry Recipe - Andhra Style Go...   \n",
       "4     Andhra Style Alam Pachadi Recipe - Adrak Chutn...   \n",
       "...                                                 ...   \n",
       "5933                         Saffron Paneer Peda Recipe   \n",
       "5934  Italian Arancini Rice Balls Recipe With Delici...   \n",
       "5935        Quinoa Phirnee Recipe (Quinoa Milk Pudding)   \n",
       "5936      Ullikadala Pulusu Recipe | Spring Onion Curry   \n",
       "5937  Kashmiri Style Kokur Yakhni Recipe-Chicken Coo...   \n",
       "\n",
       "                                  TranslatedIngredients  TotalTimeInMins  \\\n",
       "0     1 tablespoon Red Chilli powder,3 tablespoon Gr...               45   \n",
       "1      2 teaspoon cashew - or peanuts, 1/2 Teaspoon ...               15   \n",
       "2     1 Onion - sliced,1 teaspoon White Urad Dal (Sp...               50   \n",
       "3     1/2 teaspoon Turmeric powder (Haldi),1 tablesp...               45   \n",
       "4      oil - as per use, 1 tablespoon coriander seed...               30   \n",
       "...                                                 ...              ...   \n",
       "5933  2 teaspoons Rose water,1/2 teaspoon Ghee,2 cup...               20   \n",
       "5934  4 sprig Basil leaves - finely chopped,2 cups W...              100   \n",
       "5935  3/4 cup Sugar,2 cup Milk - vegans can substitu...               35   \n",
       "5936  1 pinch Turmeric powder (Haldi),1/2 teaspoon M...               15   \n",
       "5937  Salt - as required,3 to 4 Cloves (Laung),Ghee ...               75   \n",
       "\n",
       "                   Cuisine                             TranslatedInstructions  \\\n",
       "0                   Indian  to begin making the masala karela recipe de se...   \n",
       "1     South Indian Recipes  to make tomato puliogere first cut the tomatoe...   \n",
       "2     South Indian Recipes  to begin making the ragi vermicelli recipe fir...   \n",
       "3                   Andhra  to begin making gongura chicken curry recipe f...   \n",
       "4                   Andhra  to make andhra style alam pachadi first heat o...   \n",
       "...                    ...                                                ...   \n",
       "5933                Indian  to begin making the saffron paneer peda recipe...   \n",
       "5934       Italian Recipes  to begin making the italian arancini rice ball...   \n",
       "5935                Indian  to begin making quinoa phirnee recipe place a ...   \n",
       "5936                Andhra  to begin making ullikadala pulusu recipe sprin...   \n",
       "5937              Kashmiri  to begin making the kashmiri kokur yakhni reci...   \n",
       "\n",
       "                                                    URL  \\\n",
       "0     https://www.archanaskitchen.com/masala-karela-...   \n",
       "1     https://www.archanaskitchen.com/spicy-tomato-r...   \n",
       "2     https://www.archanaskitchen.com/ragi-vermicell...   \n",
       "3     https://www.archanaskitchen.com/gongura-chicke...   \n",
       "4     https://www.archanaskitchen.com/andhra-style-a...   \n",
       "...                                                 ...   \n",
       "5933  https://www.archanaskitchen.com/saffron-paneer...   \n",
       "5934  https://www.archanaskitchen.com/italian-aranci...   \n",
       "5935  https://www.archanaskitchen.com/quinoa-phirnee...   \n",
       "5936  https://www.archanaskitchen.com/ullikadala-pul...   \n",
       "5937  https://www.archanaskitchen.com/kashmiri-kokur...   \n",
       "\n",
       "                                    Cleaned-Ingredients  \\\n",
       "0     salt,amchur (dry mango powder),karela (bitter ...   \n",
       "1     tomato,salt,chickpea lentils,green chilli,rice...   \n",
       "2     salt,rice vermicelli noodles (thin),asafoetida...   \n",
       "3     tomato,salt,ginger,sorrel leaves (gongura),fen...   \n",
       "4     tomato,salt,ginger,red chillies,curry,asafoeti...   \n",
       "...                                                 ...   \n",
       "5933  saffron strands generous,ghee,paneer,rose wate...   \n",
       "5934  salt,gorgonzola cheese cubes,wheat bread crumb...   \n",
       "5935  ghee,milk,saffron strands,sugar,cardamom powde...   \n",
       "5936  salt,tamarind water,mustard seeds,asafoetida (...   \n",
       "5937  black cardamom (badi elaichi),salt,mustard oil...   \n",
       "\n",
       "                                              image-url  Ingredient-count  \n",
       "0     https://www.archanaskitchen.com/images/archana...                10  \n",
       "1     https://www.archanaskitchen.com/images/archana...                12  \n",
       "2     https://www.archanaskitchen.com/images/archana...                12  \n",
       "3     https://www.archanaskitchen.com/images/archana...                15  \n",
       "4     https://www.archanaskitchen.com/images/archana...                12  \n",
       "...                                                 ...               ...  \n",
       "5933  https://www.archanaskitchen.com/images/archana...                 7  \n",
       "5934  https://www.archanaskitchen.com/images/archana...                14  \n",
       "5935  https://www.archanaskitchen.com/images/archana...                 8  \n",
       "5936  https://www.archanaskitchen.com/images/archana...                13  \n",
       "5937  https://www.archanaskitchen.com/images/archana...                13  \n",
       "\n",
       "[5938 rows x 9 columns]"
      ]
     },
     "execution_count": 30,
     "metadata": {},
     "output_type": "execute_result"
    }
   ],
   "source": [
    "df"
   ]
  },
  {
   "cell_type": "code",
   "execution_count": 31,
   "id": "e04754c0",
   "metadata": {},
   "outputs": [],
   "source": [
    "df.to_csv('foodrecipes.txt',columns=[\"TranslatedInstructions\"],header=None,index= False)"
   ]
  },
  {
   "cell_type": "code",
   "execution_count": 32,
   "id": "ef2d20fb",
   "metadata": {},
   "outputs": [],
   "source": [
    "model = fasttext.train_unsupervised('foodrecipes.txt')"
   ]
  },
  {
   "cell_type": "code",
   "execution_count": 34,
   "id": "6032c38a",
   "metadata": {},
   "outputs": [
    {
     "data": {
      "text/plain": [
       "[(0.8078703284263611, 'chutney'),\n",
       " (0.7143629789352417, 'Chutneys'),\n",
       " (0.6734614968299866, 'marmalades'),\n",
       " (0.6405182480812073, 'achaar'),\n",
       " (0.6401256918907166, 'savouries'),\n",
       " (0.6397867798805237, 'curries'),\n",
       " (0.6368435025215149, 'sauces'),\n",
       " (0.6260963082313538, 'pickles'),\n",
       " (0.625575840473175, 'sambals'),\n",
       " (0.624324381351471, 'papads')]"
      ]
     },
     "execution_count": 34,
     "metadata": {},
     "output_type": "execute_result"
    }
   ],
   "source": [
    "model_en.get_nearest_neighbors(\"chutneys\")"
   ]
  },
  {
   "cell_type": "code",
   "execution_count": 35,
   "id": "0b34dbfc",
   "metadata": {},
   "outputs": [
    {
     "data": {
      "text/plain": [
       "[(0.9401664733886719, 'chutney'),\n",
       " (0.7603400945663452, 'khajur'),\n",
       " (0.7276118397712708, 'imli'),\n",
       " (0.7090666890144348, 'dhaniya'),\n",
       " (0.6612198948860168, 'sippe'),\n",
       " (0.659173846244812, 'mumbai'),\n",
       " (0.6560338139533997, 'delhi'),\n",
       " (0.6556511521339417, 'pudina'),\n",
       " (0.6387051343917847, 'chaats'),\n",
       " (0.6378829479217529, 'khakra')]"
      ]
     },
     "execution_count": 35,
     "metadata": {},
     "output_type": "execute_result"
    }
   ],
   "source": [
    "model.get_nearest_neighbors(\"chutneys\")"
   ]
  },
  {
   "cell_type": "code",
   "execution_count": 36,
   "id": "eae716d4",
   "metadata": {},
   "outputs": [
    {
     "data": {
      "text/plain": [
       "[(0.7338600754737854, 'khoya'),\n",
       " (0.723575234413147, 'sheera'),\n",
       " (0.699733555316925, 'kesari'),\n",
       " (0.6951777935028076, 'rabri'),\n",
       " (0.6930028200149536, 'mohan'),\n",
       " (0.6890777349472046, 'burfi'),\n",
       " (0.6810633540153503, 'mawa'),\n",
       " (0.671294629573822, 'kheer'),\n",
       " (0.6655217409133911, 'badam'),\n",
       " (0.6579570770263672, 'elaichi')]"
      ]
     },
     "execution_count": 36,
     "metadata": {},
     "output_type": "execute_result"
    }
   ],
   "source": [
    "model.get_nearest_neighbors(\"halwa\")"
   ]
  },
  {
   "cell_type": "code",
   "execution_count": 37,
   "id": "5eda125c",
   "metadata": {},
   "outputs": [
    {
     "data": {
      "text/plain": [
       "[(0.8563978672027588, 'kheer'),\n",
       " (0.8392286896705627, 'burfi'),\n",
       " (0.8193163871765137, 'Halwa'),\n",
       " (0.7894062995910645, 'kesari'),\n",
       " (0.778471827507019, 'payasam'),\n",
       " (0.7706475853919983, 'burfis'),\n",
       " (0.7590622901916504, 'laddoo'),\n",
       " (0.7504664659500122, 'ladoo'),\n",
       " (0.7471016645431519, 'rabdi'),\n",
       " (0.7396334409713745, 'laddu')]"
      ]
     },
     "execution_count": 37,
     "metadata": {},
     "output_type": "execute_result"
    }
   ],
   "source": [
    "model_en.get_nearest_neighbors(\"halwa\")"
   ]
  },
  {
   "cell_type": "code",
   "execution_count": null,
   "id": "f3f24305",
   "metadata": {},
   "outputs": [],
   "source": []
  }
 ],
 "metadata": {
  "kernelspec": {
   "display_name": "Python 3 (ipykernel)",
   "language": "python",
   "name": "python3"
  },
  "language_info": {
   "codemirror_mode": {
    "name": "ipython",
    "version": 3
   },
   "file_extension": ".py",
   "mimetype": "text/x-python",
   "name": "python",
   "nbconvert_exporter": "python",
   "pygments_lexer": "ipython3",
   "version": "3.9.13"
  }
 },
 "nbformat": 4,
 "nbformat_minor": 5
}
