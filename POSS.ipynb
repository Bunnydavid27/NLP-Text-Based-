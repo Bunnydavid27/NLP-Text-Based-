{
 "cells": [
  {
   "cell_type": "code",
   "execution_count": 1,
   "id": "960a3c27",
   "metadata": {},
   "outputs": [],
   "source": [
    "import spacy"
   ]
  },
  {
   "cell_type": "code",
   "execution_count": 2,
   "id": "0a9a4937",
   "metadata": {},
   "outputs": [],
   "source": [
    "spcy = spacy.load('en_core_web_sm')"
   ]
  },
  {
   "cell_type": "code",
   "execution_count": 26,
   "id": "a1e3abca",
   "metadata": {},
   "outputs": [],
   "source": [
    "text = 'Inflation rose again in April, continuing a climb that has pushed consumers to the brink and is threatening the economic expansion, the Bureau of Labor Statistics reported Wednesday.\\n\\nThe consumer price index, a broad-based measure of prices for goods and services, increased 8.3% from a year ago, higher than the Dow Jones estimate for an 8.1% gain. That represented a slight ease from Marchâ€™s peak but was still close to the highest level since the summer of 1982.\\n\\nRemoving volatile food and ene'"
   ]
  },
  {
   "cell_type": "code",
   "execution_count": 27,
   "id": "d5e4c381",
   "metadata": {},
   "outputs": [],
   "source": [
    "doc = spcy(text)"
   ]
  },
  {
   "cell_type": "code",
   "execution_count": 28,
   "id": "7eedfa7a",
   "metadata": {},
   "outputs": [
    {
     "data": {
      "text/plain": [
       "Inflation rose again in April, continuing a climb that has pushed consumers to the brink and is threatening the economic expansion, the Bureau of Labor Statistics reported Wednesday.\n",
       "\n",
       "The consumer price index, a broad-based measure of prices for goods and services, increased 8.3% from a year ago, higher than the Dow Jones estimate for an 8.1% gain. That represented a slight ease from Marchâ€™s peak but was still close to the highest level since the summer of 1982.\n",
       "\n",
       "Removing volatile food and ene"
      ]
     },
     "execution_count": 28,
     "metadata": {},
     "output_type": "execute_result"
    }
   ],
   "source": [
    "doc"
   ]
  },
  {
   "cell_type": "code",
   "execution_count": 29,
   "id": "1c52c222",
   "metadata": {},
   "outputs": [],
   "source": [
    "nouns = []\n",
    "num = []\n",
    "for d in doc:\n",
    "    if d.pos_ == 'NOUN' :\n",
    "        nouns.append(d)\n",
    "    elif d.pos_ =='NUM' :\n",
    "        num.append(d)"
   ]
  },
  {
   "cell_type": "code",
   "execution_count": 30,
   "id": "8e462f30",
   "metadata": {},
   "outputs": [
    {
     "data": {
      "text/plain": [
       "[Inflation,\n",
       " climb,\n",
       " consumers,\n",
       " brink,\n",
       " expansion,\n",
       " consumer,\n",
       " price,\n",
       " index,\n",
       " measure,\n",
       " prices,\n",
       " goods,\n",
       " services,\n",
       " %,\n",
       " year,\n",
       " estimate,\n",
       " %,\n",
       " gain,\n",
       " ease,\n",
       " Marchâ€,\n",
       " ™,\n",
       " peak,\n",
       " level,\n",
       " summer,\n",
       " food,\n",
       " ene]"
      ]
     },
     "execution_count": 30,
     "metadata": {},
     "output_type": "execute_result"
    }
   ],
   "source": [
    "nouns"
   ]
  },
  {
   "cell_type": "code",
   "execution_count": 31,
   "id": "4ac8e08d",
   "metadata": {},
   "outputs": [
    {
     "data": {
      "text/plain": [
       "[8.3, 8.1, 1982]"
      ]
     },
     "execution_count": 31,
     "metadata": {},
     "output_type": "execute_result"
    }
   ],
   "source": [
    "num"
   ]
  },
  {
   "cell_type": "code",
   "execution_count": 32,
   "id": "bf13c117",
   "metadata": {},
   "outputs": [],
   "source": [
    "#count of al pos tags"
   ]
  },
  {
   "cell_type": "code",
   "execution_count": 37,
   "id": "3e634ffe",
   "metadata": {},
   "outputs": [],
   "source": [
    "count = doc.count_by(spacy.attrs.POS)"
   ]
  },
  {
   "cell_type": "code",
   "execution_count": 38,
   "id": "9db111d9",
   "metadata": {},
   "outputs": [
    {
     "data": {
      "text/plain": [
       "{92: 25,\n",
       " 100: 9,\n",
       " 86: 4,\n",
       " 85: 11,\n",
       " 96: 7,\n",
       " 97: 9,\n",
       " 90: 12,\n",
       " 95: 2,\n",
       " 87: 3,\n",
       " 89: 4,\n",
       " 84: 6,\n",
       " 103: 2,\n",
       " 93: 3,\n",
       " 94: 1,\n",
       " 98: 1}"
      ]
     },
     "execution_count": 38,
     "metadata": {},
     "output_type": "execute_result"
    }
   ],
   "source": [
    "count"
   ]
  },
  {
   "cell_type": "code",
   "execution_count": 39,
   "id": "56f87eab",
   "metadata": {},
   "outputs": [
    {
     "name": "stdout",
     "output_type": "stream",
     "text": [
      "92 | NOUN | 25\n",
      "100 | VERB | 9\n",
      "86 | ADV | 4\n",
      "85 | ADP | 11\n",
      "96 | PROPN | 7\n",
      "97 | PUNCT | 9\n",
      "90 | DET | 12\n",
      "95 | PRON | 2\n",
      "87 | AUX | 3\n",
      "89 | CCONJ | 4\n",
      "84 | ADJ | 6\n",
      "103 | SPACE | 2\n",
      "93 | NUM | 3\n",
      "94 | PART | 1\n",
      "98 | SCONJ | 1\n"
     ]
    }
   ],
   "source": [
    "for k, v in count.items():\n",
    "    print(k,\"|\",spcy.vocab[k].text,\"|\", v)"
   ]
  },
  {
   "cell_type": "code",
   "execution_count": null,
   "id": "620ad8d8",
   "metadata": {},
   "outputs": [],
   "source": []
  }
 ],
 "metadata": {
  "kernelspec": {
   "display_name": "Python 3 (ipykernel)",
   "language": "python",
   "name": "python3"
  },
  "language_info": {
   "codemirror_mode": {
    "name": "ipython",
    "version": 3
   },
   "file_extension": ".py",
   "mimetype": "text/x-python",
   "name": "python",
   "nbconvert_exporter": "python",
   "pygments_lexer": "ipython3",
   "version": "3.9.13"
  }
 },
 "nbformat": 4,
 "nbformat_minor": 5
}
