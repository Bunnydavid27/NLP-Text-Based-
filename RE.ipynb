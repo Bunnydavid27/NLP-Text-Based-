{
 "cells": [
  {
   "cell_type": "code",
   "execution_count": 6,
   "id": "f3216d7d",
   "metadata": {},
   "outputs": [],
   "source": [
    "import re"
   ]
  },
  {
   "cell_type": "code",
   "execution_count": 7,
   "id": "efadd6d4",
   "metadata": {},
   "outputs": [],
   "source": [
    "string_1 = \"My contact no is 6309199688\"\n",
    "string_2 = \"Ph.no:- 8919248169\"\n",
    "string_3 = \"999999999\""
   ]
  },
  {
   "cell_type": "code",
   "execution_count": 8,
   "id": "02711c08",
   "metadata": {},
   "outputs": [],
   "source": [
    "pattern = '\\d{10}'"
   ]
  },
  {
   "cell_type": "code",
   "execution_count": 9,
   "id": "69e12b8c",
   "metadata": {},
   "outputs": [],
   "source": [
    "strings = [string_1, string_2, string_3]"
   ]
  },
  {
   "cell_type": "code",
   "execution_count": 10,
   "id": "aa608b0f",
   "metadata": {},
   "outputs": [
    {
     "name": "stdout",
     "output_type": "stream",
     "text": [
      "['6309199688']\n",
      "['8919248169']\n",
      "[]\n"
     ]
    }
   ],
   "source": [
    "for i in strings:\n",
    "    numbers = re.findall(pattern, i )\n",
    "    print(numbers)"
   ]
  },
  {
   "cell_type": "code",
   "execution_count": 16,
   "id": "a10279da",
   "metadata": {},
   "outputs": [],
   "source": [
    "string_4 = \"My is email is bunnydavid378@gmail.com\"\n",
    "string_5 = \" email is rakula3@gitam.in\""
   ]
  },
  {
   "cell_type": "code",
   "execution_count": 12,
   "id": "c14baa88",
   "metadata": {},
   "outputs": [],
   "source": []
  },
  {
   "cell_type": "code",
   "execution_count": 35,
   "id": "391a5b84",
   "metadata": {},
   "outputs": [],
   "source": [
    "pattern_email = '[a-z0-9A-Z]*@[a-z0-9A-Z]*\\.[a-z0-9A-Z]*'"
   ]
  },
  {
   "cell_type": "code",
   "execution_count": 36,
   "id": "fabf07b5",
   "metadata": {},
   "outputs": [
    {
     "name": "stdout",
     "output_type": "stream",
     "text": [
      "['bunnydavid378@gmail.com']\n",
      "['rakula3@gitam.in']\n"
     ]
    }
   ],
   "source": [
    "for j in string_4, string_5:\n",
    "    email = re.findall(pattern_email, j)\n",
    "    print(email)"
   ]
  },
  {
   "cell_type": "code",
   "execution_count": null,
   "id": "d0ff008e",
   "metadata": {},
   "outputs": [],
   "source": []
  }
 ],
 "metadata": {
  "kernelspec": {
   "display_name": "Python 3 (ipykernel)",
   "language": "python",
   "name": "python3"
  },
  "language_info": {
   "codemirror_mode": {
    "name": "ipython",
    "version": 3
   },
   "file_extension": ".py",
   "mimetype": "text/x-python",
   "name": "python",
   "nbconvert_exporter": "python",
   "pygments_lexer": "ipython3",
   "version": "3.9.13"
  }
 },
 "nbformat": 4,
 "nbformat_minor": 5
}
