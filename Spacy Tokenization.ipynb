{
 "cells": [
  {
   "cell_type": "code",
   "execution_count": 1,
   "id": "b62a3420",
   "metadata": {},
   "outputs": [],
   "source": [
    "import spacy"
   ]
  },
  {
   "cell_type": "code",
   "execution_count": 2,
   "id": "989e1c1c",
   "metadata": {},
   "outputs": [],
   "source": [
    "spcy = spacy.blank('en')"
   ]
  },
  {
   "cell_type": "code",
   "execution_count": 3,
   "id": "e31021fc",
   "metadata": {},
   "outputs": [],
   "source": [
    "doc = spcy('Dr. Strange loves pavbhaji in mumbai which costs 2$. It is so tasty.')"
   ]
  },
  {
   "cell_type": "code",
   "execution_count": 4,
   "id": "b5705cd4",
   "metadata": {},
   "outputs": [
    {
     "name": "stdout",
     "output_type": "stream",
     "text": [
      "Dr.\n",
      "Strange\n",
      "loves\n",
      "pavbhaji\n",
      "in\n",
      "mumbai\n",
      "which\n",
      "costs\n",
      "2$.\n",
      "It\n",
      "is\n",
      "so\n",
      "tasty\n",
      ".\n"
     ]
    }
   ],
   "source": [
    "for token in doc:\n",
    "    print(token)"
   ]
  },
  {
   "cell_type": "code",
   "execution_count": 5,
   "id": "21561b5d",
   "metadata": {},
   "outputs": [],
   "source": [
    "doc1 = spcy('''\"Let's go to N.Y.!\"''')"
   ]
  },
  {
   "cell_type": "code",
   "execution_count": 6,
   "id": "a25993d8",
   "metadata": {},
   "outputs": [
    {
     "name": "stdout",
     "output_type": "stream",
     "text": [
      "\"\n",
      "Let\n",
      "'s\n",
      "go\n",
      "to\n",
      "N.Y.\n",
      "!\n",
      "\"\n"
     ]
    }
   ],
   "source": [
    "for token in doc1:\n",
    "    print(token)"
   ]
  },
  {
   "cell_type": "code",
   "execution_count": 8,
   "id": "6d3a7474",
   "metadata": {},
   "outputs": [
    {
     "data": {
      "text/plain": [
       "spacy.lang.en.English"
      ]
     },
     "execution_count": 8,
     "metadata": {},
     "output_type": "execute_result"
    }
   ],
   "source": [
    "type(spcy)"
   ]
  },
  {
   "cell_type": "code",
   "execution_count": 9,
   "id": "36b4b274",
   "metadata": {},
   "outputs": [
    {
     "data": {
      "text/plain": [
       "spacy.tokens.token.Token"
      ]
     },
     "execution_count": 9,
     "metadata": {},
     "output_type": "execute_result"
    }
   ],
   "source": [
    "type(token)"
   ]
  },
  {
   "cell_type": "code",
   "execution_count": 10,
   "id": "8fae9f41",
   "metadata": {},
   "outputs": [
    {
     "data": {
      "text/plain": [
       "spacy.tokens.doc.Doc"
      ]
     },
     "execution_count": 10,
     "metadata": {},
     "output_type": "execute_result"
    }
   ],
   "source": [
    "type(doc)"
   ]
  },
  {
   "cell_type": "code",
   "execution_count": 11,
   "id": "935c4853",
   "metadata": {},
   "outputs": [
    {
     "data": {
      "text/plain": [
       "Let's"
      ]
     },
     "execution_count": 11,
     "metadata": {},
     "output_type": "execute_result"
    }
   ],
   "source": [
    "doc1[1:3]"
   ]
  },
  {
   "cell_type": "code",
   "execution_count": 12,
   "id": "ed656370",
   "metadata": {},
   "outputs": [
    {
     "data": {
      "text/plain": [
       "spacy.tokens.span.Span"
      ]
     },
     "execution_count": 12,
     "metadata": {},
     "output_type": "execute_result"
    }
   ],
   "source": [
    "type(doc1[1:3])"
   ]
  },
  {
   "cell_type": "code",
   "execution_count": 23,
   "id": "c70b0047",
   "metadata": {},
   "outputs": [],
   "source": [
    "doc2 = spcy(\"There are two idiot's has 2$\")"
   ]
  },
  {
   "cell_type": "code",
   "execution_count": 24,
   "id": "2bc576d9",
   "metadata": {},
   "outputs": [
    {
     "data": {
      "text/plain": [
       "spacy.tokens.token.Token"
      ]
     },
     "execution_count": 24,
     "metadata": {},
     "output_type": "execute_result"
    }
   ],
   "source": [
    "type(doc2[3])"
   ]
  },
  {
   "cell_type": "code",
   "execution_count": 25,
   "id": "d13601f1",
   "metadata": {},
   "outputs": [],
   "source": [
    "tok = doc2[2]"
   ]
  },
  {
   "cell_type": "code",
   "execution_count": 26,
   "id": "38614230",
   "metadata": {},
   "outputs": [
    {
     "data": {
      "text/plain": [
       "True"
      ]
     },
     "execution_count": 26,
     "metadata": {},
     "output_type": "execute_result"
    }
   ],
   "source": [
    "tok.is_alpha"
   ]
  },
  {
   "cell_type": "code",
   "execution_count": 27,
   "id": "991dcfb2",
   "metadata": {},
   "outputs": [
    {
     "data": {
      "text/plain": [
       "True"
      ]
     },
     "execution_count": 27,
     "metadata": {},
     "output_type": "execute_result"
    }
   ],
   "source": [
    "tok.like_num"
   ]
  },
  {
   "cell_type": "code",
   "execution_count": 28,
   "id": "91098d06",
   "metadata": {},
   "outputs": [
    {
     "data": {
      "text/plain": [
       "two"
      ]
     },
     "execution_count": 28,
     "metadata": {},
     "output_type": "execute_result"
    }
   ],
   "source": [
    "tok"
   ]
  },
  {
   "cell_type": "code",
   "execution_count": 31,
   "id": "8779e7de",
   "metadata": {},
   "outputs": [
    {
     "name": "stdout",
     "output_type": "stream",
     "text": [
      "There True False False\n",
      "are True False False\n",
      "two True False True\n",
      "idiot True False False\n",
      "'s False False False\n",
      "has True False False\n",
      "2 False False True\n",
      "$ False True False\n"
     ]
    }
   ],
   "source": [
    "for token1 in doc2:\n",
    "    print(token1,\n",
    "        token1.is_alpha,\n",
    "         token1.is_currency,\n",
    "         token1.like_num)"
   ]
  },
  {
   "cell_type": "code",
   "execution_count": 33,
   "id": "0470b06f",
   "metadata": {},
   "outputs": [
    {
     "name": "stdout",
     "output_type": "stream",
     "text": [
      "['The School\\n', '\\n', '10th class\\n', '\\n', 'student_name   email                         ph.no\\n', ' \\n', 'virat          virat_kohli@gmail.com          9999999999\\n', '\\n', '\\n', 'sharapova       shara_pova12@gmail.com        9888857984\\n', '\\n', '\\n', 'keerthy         keerthy@yahoo.in              6309188699\\n']\n"
     ]
    }
   ],
   "source": [
    "with open('studnet_email.txt') as f:\n",
    "    text = f.readlines()\n",
    "    print(text)"
   ]
  },
  {
   "cell_type": "code",
   "execution_count": 35,
   "id": "32e9a635",
   "metadata": {},
   "outputs": [],
   "source": [
    "text = ' '.join(text)"
   ]
  },
  {
   "cell_type": "code",
   "execution_count": 36,
   "id": "6bf0015d",
   "metadata": {},
   "outputs": [
    {
     "data": {
      "text/plain": [
       "'The School\\n \\n 10th class\\n \\n student_name   email                         ph.no\\n  \\n virat          virat_kohli@gmail.com          9999999999\\n \\n \\n sharapova       shara_pova12@gmail.com        9888857984\\n \\n \\n keerthy         keerthy@yahoo.in              6309188699\\n'"
      ]
     },
     "execution_count": 36,
     "metadata": {},
     "output_type": "execute_result"
    }
   ],
   "source": [
    "text"
   ]
  },
  {
   "cell_type": "code",
   "execution_count": 37,
   "id": "68a175b5",
   "metadata": {},
   "outputs": [],
   "source": [
    "students = spcy(text)"
   ]
  },
  {
   "cell_type": "code",
   "execution_count": 38,
   "id": "1c7ced9e",
   "metadata": {},
   "outputs": [
    {
     "data": {
      "text/plain": [
       "The School\n",
       " \n",
       " 10th class\n",
       " \n",
       " student_name   email                         ph.no\n",
       "  \n",
       " virat          virat_kohli@gmail.com          9999999999\n",
       " \n",
       " \n",
       " sharapova       shara_pova12@gmail.com        9888857984\n",
       " \n",
       " \n",
       " keerthy         keerthy@yahoo.in              6309188699"
      ]
     },
     "execution_count": 38,
     "metadata": {},
     "output_type": "execute_result"
    }
   ],
   "source": [
    "students"
   ]
  },
  {
   "cell_type": "code",
   "execution_count": 40,
   "id": "60a07c59",
   "metadata": {},
   "outputs": [],
   "source": [
    "emails = []\n",
    "for email in students:\n",
    "    if email.like_email:\n",
    "        emails.append(email.text)\n",
    "        \n",
    "                                                "
   ]
  },
  {
   "cell_type": "code",
   "execution_count": 41,
   "id": "e1d41ec3",
   "metadata": {},
   "outputs": [
    {
     "data": {
      "text/plain": [
       "['virat_kohli@gmail.com', 'shara_pova12@gmail.com', 'keerthy@yahoo.in']"
      ]
     },
     "execution_count": 41,
     "metadata": {},
     "output_type": "execute_result"
    }
   ],
   "source": [
    "emails"
   ]
  },
  {
   "cell_type": "code",
   "execution_count": 43,
   "id": "0f5da246",
   "metadata": {},
   "outputs": [],
   "source": [
    "numbers = []\n",
    "for phone in students:\n",
    "    if phone.like_num:\n",
    "        numbers.append(phone.text)\n",
    "        \n",
    "                                                "
   ]
  },
  {
   "cell_type": "code",
   "execution_count": 44,
   "id": "cdcfec2c",
   "metadata": {},
   "outputs": [
    {
     "data": {
      "text/plain": [
       "['10th', '9999999999', '9888857984', '6309188699']"
      ]
     },
     "execution_count": 44,
     "metadata": {},
     "output_type": "execute_result"
    }
   ],
   "source": [
    "numbers"
   ]
  },
  {
   "cell_type": "code",
   "execution_count": 45,
   "id": "1c53bfb2",
   "metadata": {},
   "outputs": [],
   "source": [
    "hind = spacy.blank('hi')"
   ]
  },
  {
   "cell_type": "code",
   "execution_count": 59,
   "id": "1b677f90",
   "metadata": {},
   "outputs": [],
   "source": [
    "hindi_doc = hind('कैस हो भै मुझ्को दो बार थुने कुछ पउछ पइस ₹ कि खोसिश कि कुछ्')"
   ]
  },
  {
   "cell_type": "code",
   "execution_count": 60,
   "id": "a084e03f",
   "metadata": {},
   "outputs": [
    {
     "name": "stdout",
     "output_type": "stream",
     "text": [
      "कैस\n",
      "हो\n",
      "भै\n",
      "मुझ्को\n",
      "दो\n",
      "बार\n",
      "थुने\n",
      "कुछ\n",
      "पउछ\n",
      "पइस\n",
      "₹\n",
      "कि\n",
      "खोसिश\n",
      "कि\n",
      "कुछ्\n"
     ]
    }
   ],
   "source": [
    "for toka in hindi_doc:\n",
    "    print(toka)"
   ]
  },
  {
   "cell_type": "code",
   "execution_count": 61,
   "id": "887ed0a6",
   "metadata": {},
   "outputs": [
    {
     "data": {
      "text/plain": [
       "दो"
      ]
     },
     "execution_count": 61,
     "metadata": {},
     "output_type": "execute_result"
    }
   ],
   "source": [
    "num = hindi_doc[4]\n",
    "num"
   ]
  },
  {
   "cell_type": "code",
   "execution_count": 62,
   "id": "4e87a0db",
   "metadata": {},
   "outputs": [
    {
     "data": {
      "text/plain": [
       "False"
      ]
     },
     "execution_count": 62,
     "metadata": {},
     "output_type": "execute_result"
    }
   ],
   "source": [
    "num.is_alpha"
   ]
  },
  {
   "cell_type": "code",
   "execution_count": 63,
   "id": "55c6dc10",
   "metadata": {},
   "outputs": [
    {
     "data": {
      "text/plain": [
       "True"
      ]
     },
     "execution_count": 63,
     "metadata": {},
     "output_type": "execute_result"
    }
   ],
   "source": [
    "num.like_num"
   ]
  },
  {
   "cell_type": "code",
   "execution_count": 64,
   "id": "80debeb6",
   "metadata": {},
   "outputs": [
    {
     "name": "stdout",
     "output_type": "stream",
     "text": [
      "कैस False False False\n",
      "हो False False False\n",
      "भै False False False\n",
      "मुझ्को False False False\n",
      "दो False False True\n",
      "बार False False False\n",
      "थुने False False False\n",
      "कुछ False False False\n",
      "पउछ True False False\n",
      "पइस True False False\n",
      "₹ False True False\n",
      "कि False False False\n",
      "खोसिश False False False\n",
      "कि False False False\n",
      "कुछ् False False False\n"
     ]
    }
   ],
   "source": [
    "for hin_doc in hindi_doc:\n",
    "    print(hin_doc,\n",
    "        hin_doc.is_alpha,\n",
    "         hin_doc.is_currency,\n",
    "         hin_doc.like_num)"
   ]
  },
  {
   "cell_type": "code",
   "execution_count": 65,
   "id": "56b7dc1e",
   "metadata": {},
   "outputs": [
    {
     "data": {
      "text/plain": [
       "\"Let's go to N.Y.!\""
      ]
     },
     "execution_count": 65,
     "metadata": {},
     "output_type": "execute_result"
    }
   ],
   "source": [
    "doc1"
   ]
  },
  {
   "cell_type": "code",
   "execution_count": 66,
   "id": "f7b1ad2e",
   "metadata": {},
   "outputs": [
    {
     "data": {
      "text/plain": [
       "['\"', 'Let', \"'s\", 'go', 'to', 'N.Y.', '!', '\"']"
      ]
     },
     "execution_count": 66,
     "metadata": {},
     "output_type": "execute_result"
    }
   ],
   "source": [
    "tokens_list = [doctok.text for doctok in doc1]\n",
    "tokens_list"
   ]
  },
  {
   "cell_type": "code",
   "execution_count": 75,
   "id": "83ace3c3",
   "metadata": {},
   "outputs": [
    {
     "data": {
      "text/plain": [
       "['gim', 'me', 'the', 'acer', 'laptop', 'which', 'has', '256', 'gb', 'SSD']"
      ]
     },
     "execution_count": 75,
     "metadata": {},
     "output_type": "execute_result"
    }
   ],
   "source": [
    "doc4 = spcy('gimme the acer laptop which has 256gb SSD')\n",
    "tokens_list1 = [doctok.text for doctok in doc4]\n",
    "tokens_list1\n",
    "#['gimme', 'the', 'acer', 'laptop', 'which', 'has', '256', 'gb', 'SSD']"
   ]
  },
  {
   "cell_type": "code",
   "execution_count": 72,
   "id": "17176058",
   "metadata": {},
   "outputs": [],
   "source": [
    "from spacy.symbols import ORTH\n"
   ]
  },
  {
   "cell_type": "code",
   "execution_count": 73,
   "id": "640badfd",
   "metadata": {},
   "outputs": [],
   "source": [
    "spcy.tokenizer.add_special_case('gimme',[\n",
    "    {ORTH: 'gim'},{ORTH:'me'}\n",
    "])"
   ]
  },
  {
   "cell_type": "code",
   "execution_count": null,
   "id": "4d3cdf25",
   "metadata": {},
   "outputs": [],
   "source": [
    "tokens_list1 = [doctok.text for doctok in doc4]\n",
    "tokens_list1"
   ]
  },
  {
   "cell_type": "code",
   "execution_count": 76,
   "id": "1c6f604d",
   "metadata": {},
   "outputs": [
    {
     "ename": "ValueError",
     "evalue": "[E030] Sentence boundaries unset. You can add the 'sentencizer' component to the pipeline with: `nlp.add_pipe('sentencizer')`. Alternatively, add the dependency parser or sentence recognizer, or set sentence boundaries by setting `doc[i].is_sent_start`.",
     "output_type": "error",
     "traceback": [
      "\u001b[1;31m---------------------------------------------------------------------------\u001b[0m",
      "\u001b[1;31mValueError\u001b[0m                                Traceback (most recent call last)",
      "\u001b[1;32m~\\AppData\\Local\\Temp\\ipykernel_10280\\3244972941.py\u001b[0m in \u001b[0;36m<cell line: 1>\u001b[1;34m()\u001b[0m\n\u001b[1;32m----> 1\u001b[1;33m \u001b[1;32mfor\u001b[0m \u001b[0mtoken\u001b[0m \u001b[1;32min\u001b[0m \u001b[0mdoc\u001b[0m\u001b[1;33m.\u001b[0m\u001b[0msents\u001b[0m\u001b[1;33m:\u001b[0m\u001b[1;33m\u001b[0m\u001b[1;33m\u001b[0m\u001b[0m\n\u001b[0m\u001b[0;32m      2\u001b[0m     \u001b[0mprint\u001b[0m\u001b[1;33m(\u001b[0m\u001b[0mtoken\u001b[0m\u001b[1;33m)\u001b[0m\u001b[1;33m\u001b[0m\u001b[1;33m\u001b[0m\u001b[0m\n",
      "\u001b[1;32m~\\anaconda3\\lib\\site-packages\\spacy\\tokens\\doc.pyx\u001b[0m in \u001b[0;36msents\u001b[1;34m()\u001b[0m\n",
      "\u001b[1;31mValueError\u001b[0m: [E030] Sentence boundaries unset. You can add the 'sentencizer' component to the pipeline with: `nlp.add_pipe('sentencizer')`. Alternatively, add the dependency parser or sentence recognizer, or set sentence boundaries by setting `doc[i].is_sent_start`."
     ]
    }
   ],
   "source": [
    "for token in doc.sents:\n",
    "    print(token)"
   ]
  },
  {
   "cell_type": "code",
   "execution_count": 78,
   "id": "26e6cbfe",
   "metadata": {},
   "outputs": [
    {
     "data": {
      "text/plain": [
       "[]"
      ]
     },
     "execution_count": 78,
     "metadata": {},
     "output_type": "execute_result"
    }
   ],
   "source": [
    "spcy.pipe_names"
   ]
  },
  {
   "cell_type": "code",
   "execution_count": 86,
   "id": "29f3afad",
   "metadata": {},
   "outputs": [
    {
     "ename": "ValueError",
     "evalue": "[E007] 'sentencizer' already exists in pipeline. Existing names: ['sentencizer']",
     "output_type": "error",
     "traceback": [
      "\u001b[1;31m---------------------------------------------------------------------------\u001b[0m",
      "\u001b[1;31mValueError\u001b[0m                                Traceback (most recent call last)",
      "\u001b[1;32m~\\AppData\\Local\\Temp\\ipykernel_10280\\436757134.py\u001b[0m in \u001b[0;36m<cell line: 1>\u001b[1;34m()\u001b[0m\n\u001b[1;32m----> 1\u001b[1;33m \u001b[0mspcy\u001b[0m\u001b[1;33m.\u001b[0m\u001b[0madd_pipe\u001b[0m\u001b[1;33m(\u001b[0m\u001b[1;34m'sentencizer'\u001b[0m\u001b[1;33m)\u001b[0m\u001b[1;33m\u001b[0m\u001b[1;33m\u001b[0m\u001b[0m\n\u001b[0m",
      "\u001b[1;32m~\\anaconda3\\lib\\site-packages\\spacy\\language.py\u001b[0m in \u001b[0;36madd_pipe\u001b[1;34m(self, factory_name, name, before, after, first, last, source, config, raw_config, validate)\u001b[0m\n\u001b[0;32m    773\u001b[0m         \u001b[0mname\u001b[0m \u001b[1;33m=\u001b[0m \u001b[0mname\u001b[0m \u001b[1;32mif\u001b[0m \u001b[0mname\u001b[0m \u001b[1;32mis\u001b[0m \u001b[1;32mnot\u001b[0m \u001b[1;32mNone\u001b[0m \u001b[1;32melse\u001b[0m \u001b[0mfactory_name\u001b[0m\u001b[1;33m\u001b[0m\u001b[1;33m\u001b[0m\u001b[0m\n\u001b[0;32m    774\u001b[0m         \u001b[1;32mif\u001b[0m \u001b[0mname\u001b[0m \u001b[1;32min\u001b[0m \u001b[0mself\u001b[0m\u001b[1;33m.\u001b[0m\u001b[0mcomponent_names\u001b[0m\u001b[1;33m:\u001b[0m\u001b[1;33m\u001b[0m\u001b[1;33m\u001b[0m\u001b[0m\n\u001b[1;32m--> 775\u001b[1;33m             \u001b[1;32mraise\u001b[0m \u001b[0mValueError\u001b[0m\u001b[1;33m(\u001b[0m\u001b[0mErrors\u001b[0m\u001b[1;33m.\u001b[0m\u001b[0mE007\u001b[0m\u001b[1;33m.\u001b[0m\u001b[0mformat\u001b[0m\u001b[1;33m(\u001b[0m\u001b[0mname\u001b[0m\u001b[1;33m=\u001b[0m\u001b[0mname\u001b[0m\u001b[1;33m,\u001b[0m \u001b[0mopts\u001b[0m\u001b[1;33m=\u001b[0m\u001b[0mself\u001b[0m\u001b[1;33m.\u001b[0m\u001b[0mcomponent_names\u001b[0m\u001b[1;33m)\u001b[0m\u001b[1;33m)\u001b[0m\u001b[1;33m\u001b[0m\u001b[1;33m\u001b[0m\u001b[0m\n\u001b[0m\u001b[0;32m    776\u001b[0m         \u001b[1;31m# Overriding pipe name in the config is not supported and will be ignored.\u001b[0m\u001b[1;33m\u001b[0m\u001b[1;33m\u001b[0m\u001b[0m\n\u001b[0;32m    777\u001b[0m         \u001b[1;32mif\u001b[0m \u001b[1;34m\"name\"\u001b[0m \u001b[1;32min\u001b[0m \u001b[0mconfig\u001b[0m\u001b[1;33m:\u001b[0m\u001b[1;33m\u001b[0m\u001b[1;33m\u001b[0m\u001b[0m\n",
      "\u001b[1;31mValueError\u001b[0m: [E007] 'sentencizer' already exists in pipeline. Existing names: ['sentencizer']"
     ]
    }
   ],
   "source": [
    "spcy.add_pipe('sentencizer')"
   ]
  },
  {
   "cell_type": "code",
   "execution_count": 87,
   "id": "fe3f8d4b",
   "metadata": {},
   "outputs": [
    {
     "data": {
      "text/plain": [
       "['sentencizer']"
      ]
     },
     "execution_count": 87,
     "metadata": {},
     "output_type": "execute_result"
    }
   ],
   "source": [
    "spcy.pipe_names"
   ]
  },
  {
   "cell_type": "code",
   "execution_count": 95,
   "id": "4bfe52bc",
   "metadata": {},
   "outputs": [],
   "source": [
    "doc5 = spcy('Dr.Strange loves pavbaji of mumbai. hulk loves chat of delhi')\n"
   ]
  },
  {
   "cell_type": "code",
   "execution_count": 96,
   "id": "d070967c",
   "metadata": {},
   "outputs": [
    {
     "name": "stdout",
     "output_type": "stream",
     "text": [
      "Dr.Strange loves pavbaji of mumbai.\n",
      "hulk loves chat of delhi\n"
     ]
    }
   ],
   "source": [
    "for token in doc5.sents:\n",
    "    print(token)"
   ]
  },
  {
   "cell_type": "code",
   "execution_count": 97,
   "id": "f85f4f32",
   "metadata": {},
   "outputs": [
    {
     "data": {
      "text/plain": [
       "<generator at 0x1cfc2146cc0>"
      ]
     },
     "execution_count": 97,
     "metadata": {},
     "output_type": "execute_result"
    }
   ],
   "source": [
    "doc5.sents"
   ]
  },
  {
   "cell_type": "code",
   "execution_count": null,
   "id": "803c4611",
   "metadata": {},
   "outputs": [],
   "source": []
  }
 ],
 "metadata": {
  "kernelspec": {
   "display_name": "Python 3 (ipykernel)",
   "language": "python",
   "name": "python3"
  },
  "language_info": {
   "codemirror_mode": {
    "name": "ipython",
    "version": 3
   },
   "file_extension": ".py",
   "mimetype": "text/x-python",
   "name": "python",
   "nbconvert_exporter": "python",
   "pygments_lexer": "ipython3",
   "version": "3.9.13"
  }
 },
 "nbformat": 4,
 "nbformat_minor": 5
}
