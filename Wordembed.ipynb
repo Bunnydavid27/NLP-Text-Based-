{
 "cells": [
  {
   "cell_type": "code",
   "execution_count": 3,
   "id": "80d77fd8",
   "metadata": {},
   "outputs": [],
   "source": [
    "import spacy\n",
    "spcy = spacy.load('en_core_web_lg')"
   ]
  },
  {
   "cell_type": "code",
   "execution_count": 4,
   "id": "7c8ba764",
   "metadata": {},
   "outputs": [],
   "source": [
    "doc = spcy('dog cat banana afhtfgjk')"
   ]
  },
  {
   "cell_type": "code",
   "execution_count": 6,
   "id": "5dc2092d",
   "metadata": {},
   "outputs": [
    {
     "name": "stdout",
     "output_type": "stream",
     "text": [
      "dog True False\n",
      "cat True False\n",
      "banana True False\n",
      "afhtfgjk False True\n"
     ]
    }
   ],
   "source": [
    "for token in doc:\n",
    "    print(token.text, token.has_vector, token.is_oov)"
   ]
  },
  {
   "cell_type": "code",
   "execution_count": 9,
   "id": "13e938f0",
   "metadata": {},
   "outputs": [],
   "source": [
    "doc = spcy('bread')"
   ]
  },
  {
   "cell_type": "code",
   "execution_count": 10,
   "id": "aae153e0",
   "metadata": {},
   "outputs": [],
   "source": [
    "doc1 = spcy('sandwich burger car tiger')"
   ]
  },
  {
   "cell_type": "code",
   "execution_count": 11,
   "id": "1d6d9ebb",
   "metadata": {},
   "outputs": [
    {
     "name": "stdout",
     "output_type": "stream",
     "text": [
      "sandwich-->bread-->0.6341067552566528\n",
      "burger-->bread-->0.4752068817615509\n",
      "car-->bread-->0.06451532989740372\n",
      "tiger-->bread-->0.047646116465330124\n"
     ]
    }
   ],
   "source": [
    "for token in doc1:\n",
    "    print(f\"{token.text}-->{doc[0].text}-->{token.similarity(doc[0])}\")"
   ]
  },
  {
   "cell_type": "code",
   "execution_count": 54,
   "id": "5a11eb6f",
   "metadata": {},
   "outputs": [],
   "source": [
    "king = spcy.vocab['king'].vector\n",
    "man = spcy.vocab['man'].vector\n",
    "queen = spcy.vocab['queen'].vector\n",
    "women = spcy.vocab['woman'].vector\n",
    "result = king - man + women"
   ]
  },
  {
   "cell_type": "code",
   "execution_count": 55,
   "id": "7db0a4ee",
   "metadata": {},
   "outputs": [],
   "source": [
    "from sklearn.metrics.pairwise import cosine_similarity"
   ]
  },
  {
   "cell_type": "code",
   "execution_count": 56,
   "id": "17cb62a2",
   "metadata": {},
   "outputs": [
    {
     "data": {
      "text/plain": [
       "array([[0.6178014]], dtype=float32)"
      ]
     },
     "execution_count": 56,
     "metadata": {},
     "output_type": "execute_result"
    }
   ],
   "source": [
    "cosine_similarity([result],[ queen])"
   ]
  },
  {
   "cell_type": "code",
   "execution_count": 18,
   "id": "2a03d0e1",
   "metadata": {},
   "outputs": [],
   "source": [
    "king = spcy.vocab[\"king\"].vector\n",
    "man = spcy.vocab[\"man\"].vector\n",
    "woman = spcy.vocab[\"woman\"].vector\n",
    "queen = spcy.vocab[\"queen\"].vector\n",
    "\n",
    "result = king - man + woman"
   ]
  },
  {
   "cell_type": "code",
   "execution_count": 19,
   "id": "cd9f3a30",
   "metadata": {},
   "outputs": [
    {
     "data": {
      "text/plain": [
       "array([[0.6178014]], dtype=float32)"
      ]
     },
     "execution_count": 19,
     "metadata": {},
     "output_type": "execute_result"
    }
   ],
   "source": [
    "cosine_similarity([result], [queen])"
   ]
  },
  {
   "cell_type": "code",
   "execution_count": null,
   "id": "bb480e64",
   "metadata": {},
   "outputs": [],
   "source": []
  }
 ],
 "metadata": {
  "kernelspec": {
   "display_name": "Python 3 (ipykernel)",
   "language": "python",
   "name": "python3"
  },
  "language_info": {
   "codemirror_mode": {
    "name": "ipython",
    "version": 3
   },
   "file_extension": ".py",
   "mimetype": "text/x-python",
   "name": "python",
   "nbconvert_exporter": "python",
   "pygments_lexer": "ipython3",
   "version": "3.9.13"
  }
 },
 "nbformat": 4,
 "nbformat_minor": 5
}
