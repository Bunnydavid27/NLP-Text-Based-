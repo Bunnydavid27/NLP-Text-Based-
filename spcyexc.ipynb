{
 "cells": [
  {
   "cell_type": "code",
   "execution_count": 1,
   "id": "92de1544",
   "metadata": {},
   "outputs": [],
   "source": [
    "text='''\n",
    "Look for data to help you address the question. Governments are good\n",
    "sources because data from public research is often freely available. Good\n",
    "places to start include http://www.data.gov/, and http://www.science.\n",
    "gov/, and in the United Kingdom, http://data.gov.uk/.\n",
    "Two of my favorite data sets are the General Social Survey at http://www3.norc.org/gss+website/, \n",
    "and the European Social Survey at http://www.europeansocialsurvey.org/.\n",
    "'''"
   ]
  },
  {
   "cell_type": "code",
   "execution_count": 2,
   "id": "866a019c",
   "metadata": {},
   "outputs": [],
   "source": [
    "import spacy"
   ]
  },
  {
   "cell_type": "code",
   "execution_count": 3,
   "id": "e81d5832",
   "metadata": {},
   "outputs": [],
   "source": [
    "nlp = spacy.blank('en')"
   ]
  },
  {
   "cell_type": "code",
   "execution_count": 4,
   "id": "5b4a1e2d",
   "metadata": {},
   "outputs": [
    {
     "data": {
      "text/plain": [
       "<spacy.lang.en.English at 0x21d443ab280>"
      ]
     },
     "execution_count": 4,
     "metadata": {},
     "output_type": "execute_result"
    }
   ],
   "source": [
    "nlp"
   ]
  },
  {
   "cell_type": "code",
   "execution_count": 5,
   "id": "09ba5999",
   "metadata": {},
   "outputs": [
    {
     "data": {
      "text/plain": [
       "\n",
       "Look for data to help you address the question. Governments are good\n",
       "sources because data from public research is often freely available. Good\n",
       "places to start include http://www.data.gov/, and http://www.science.\n",
       "gov/, and in the United Kingdom, http://data.gov.uk/.\n",
       "Two of my favorite data sets are the General Social Survey at http://www3.norc.org/gss+website/, \n",
       "and the European Social Survey at http://www.europeansocialsurvey.org/."
      ]
     },
     "execution_count": 5,
     "metadata": {},
     "output_type": "execute_result"
    }
   ],
   "source": [
    "texts = nlp(text)\n",
    "texts "
   ]
  },
  {
   "cell_type": "code",
   "execution_count": 7,
   "id": "f42d2414",
   "metadata": {},
   "outputs": [
    {
     "name": "stdout",
     "output_type": "stream",
     "text": [
      "\n",
      "\n",
      "Look\n",
      "for\n",
      "data\n",
      "to\n",
      "help\n",
      "you\n",
      "address\n",
      "the\n",
      "question\n",
      ".\n",
      "Governments\n",
      "are\n",
      "good\n",
      "\n",
      "\n",
      "sources\n",
      "because\n",
      "data\n",
      "from\n",
      "public\n",
      "research\n",
      "is\n",
      "often\n",
      "freely\n",
      "available\n",
      ".\n",
      "Good\n",
      "\n",
      "\n",
      "places\n",
      "to\n",
      "start\n",
      "include\n",
      "http://www.data.gov/\n",
      ",\n",
      "and\n",
      "http://www.science\n",
      ".\n",
      "\n",
      "\n",
      "gov/\n",
      ",\n",
      "and\n",
      "in\n",
      "the\n",
      "United\n",
      "Kingdom\n",
      ",\n",
      "http://data.gov.uk/.\n",
      "\n",
      "\n",
      "Two\n",
      "of\n",
      "my\n",
      "favorite\n",
      "data\n",
      "sets\n",
      "are\n",
      "the\n",
      "General\n",
      "Social\n",
      "Survey\n",
      "at\n",
      "http://www3.norc.org/gss+website/\n",
      ",\n",
      "\n",
      "\n",
      "and\n",
      "the\n",
      "European\n",
      "Social\n",
      "Survey\n",
      "at\n",
      "http://www.europeansocialsurvey.org/.\n",
      "\n",
      "\n"
     ]
    }
   ],
   "source": [
    "urls = []\n",
    "for url in texts:\n",
    "    print(url)"
   ]
  },
  {
   "cell_type": "code",
   "execution_count": 10,
   "id": "17f53ed3",
   "metadata": {},
   "outputs": [],
   "source": [
    "urls = []\n",
    "for url in texts:\n",
    "    if url.like_url:\n",
    "        urls.append(url.text)"
   ]
  },
  {
   "cell_type": "code",
   "execution_count": 11,
   "id": "0fb48992",
   "metadata": {},
   "outputs": [
    {
     "data": {
      "text/plain": [
       "['http://www.data.gov/',\n",
       " 'http://www.science',\n",
       " 'http://data.gov.uk/.',\n",
       " 'http://www3.norc.org/gss+website/',\n",
       " 'http://www.europeansocialsurvey.org/.']"
      ]
     },
     "execution_count": 11,
     "metadata": {},
     "output_type": "execute_result"
    }
   ],
   "source": [
    "urls"
   ]
  },
  {
   "cell_type": "code",
   "execution_count": 12,
   "id": "44061aa9",
   "metadata": {},
   "outputs": [],
   "source": [
    "#list comprehension"
   ]
  },
  {
   "cell_type": "code",
   "execution_count": 13,
   "id": "f15cd881",
   "metadata": {},
   "outputs": [],
   "source": [
    "urls2 = [i.text for i in texts if i.like_url]"
   ]
  },
  {
   "cell_type": "code",
   "execution_count": 14,
   "id": "2b03a178",
   "metadata": {},
   "outputs": [
    {
     "data": {
      "text/plain": [
       "['http://www.data.gov/',\n",
       " 'http://www.science',\n",
       " 'http://data.gov.uk/.',\n",
       " 'http://www3.norc.org/gss+website/',\n",
       " 'http://www.europeansocialsurvey.org/.']"
      ]
     },
     "execution_count": 14,
     "metadata": {},
     "output_type": "execute_result"
    }
   ],
   "source": [
    "urls2"
   ]
  },
  {
   "cell_type": "code",
   "execution_count": 15,
   "id": "f9098cb2",
   "metadata": {},
   "outputs": [],
   "source": [
    "# Exc-2 "
   ]
  },
  {
   "cell_type": "code",
   "execution_count": 16,
   "id": "a78baa73",
   "metadata": {},
   "outputs": [],
   "source": [
    "transactions = \"Tony gave two $ to Peter, Bruce gave 500 € to Steve\""
   ]
  },
  {
   "cell_type": "code",
   "execution_count": 17,
   "id": "ffef78a2",
   "metadata": {},
   "outputs": [],
   "source": [
    "trans = nlp(transactions)"
   ]
  },
  {
   "cell_type": "code",
   "execution_count": 37,
   "id": "620f6f4d",
   "metadata": {},
   "outputs": [],
   "source": [
    "amount = []\n",
    "for i in trans:\n",
    "    if i.like_num and trans[i.i+1].is_currency:\n",
    "        amount.append(i.text + (trans[i.i+1]).text)\n"
   ]
  },
  {
   "cell_type": "code",
   "execution_count": 38,
   "id": "47445116",
   "metadata": {},
   "outputs": [
    {
     "data": {
      "text/plain": [
       "['two$', '500€']"
      ]
     },
     "execution_count": 38,
     "metadata": {},
     "output_type": "execute_result"
    }
   ],
   "source": [
    "amount"
   ]
  },
  {
   "cell_type": "code",
   "execution_count": 39,
   "id": "cfc2c637",
   "metadata": {},
   "outputs": [],
   "source": [
    "amnt =[i.text + (trans[i.i+1]).text for i in trans if i.like_num and trans[i.i+1].is_currency]"
   ]
  },
  {
   "cell_type": "code",
   "execution_count": 40,
   "id": "e12d76cd",
   "metadata": {},
   "outputs": [
    {
     "data": {
      "text/plain": [
       "['two$', '500€']"
      ]
     },
     "execution_count": 40,
     "metadata": {},
     "output_type": "execute_result"
    }
   ],
   "source": [
    "amnt"
   ]
  },
  {
   "cell_type": "code",
   "execution_count": null,
   "id": "f83a6f0e",
   "metadata": {},
   "outputs": [],
   "source": []
  }
 ],
 "metadata": {
  "kernelspec": {
   "display_name": "Python 3 (ipykernel)",
   "language": "python",
   "name": "python3"
  },
  "language_info": {
   "codemirror_mode": {
    "name": "ipython",
    "version": 3
   },
   "file_extension": ".py",
   "mimetype": "text/x-python",
   "name": "python",
   "nbconvert_exporter": "python",
   "pygments_lexer": "ipython3",
   "version": "3.9.13"
  }
 },
 "nbformat": 4,
 "nbformat_minor": 5
}
