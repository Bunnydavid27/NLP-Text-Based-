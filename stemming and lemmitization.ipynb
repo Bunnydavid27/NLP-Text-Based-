{
 "cells": [
  {
   "cell_type": "code",
   "execution_count": 1,
   "id": "2ea5377a",
   "metadata": {},
   "outputs": [],
   "source": [
    "import nltk, spacy"
   ]
  },
  {
   "cell_type": "code",
   "execution_count": 2,
   "id": "e37d2e90",
   "metadata": {},
   "outputs": [],
   "source": [
    "from nltk.stem import PorterStemmer"
   ]
  },
  {
   "cell_type": "code",
   "execution_count": 3,
   "id": "878b8753",
   "metadata": {},
   "outputs": [],
   "source": [
    "porter_stem = PorterStemmer()"
   ]
  },
  {
   "cell_type": "code",
   "execution_count": 5,
   "id": "fe2f5502",
   "metadata": {},
   "outputs": [],
   "source": [
    "words = ['eating', 'living', 'adjustable', 'ability', 'marketing', 'meeting', 'eat', 'ate', 'eats']"
   ]
  },
  {
   "cell_type": "code",
   "execution_count": 7,
   "id": "7bde7faf",
   "metadata": {},
   "outputs": [
    {
     "name": "stdout",
     "output_type": "stream",
     "text": [
      "eating | eat\n",
      "living | live\n",
      "adjustable | adjust\n",
      "ability | abil\n",
      "marketing | market\n",
      "meeting | meet\n",
      "eat | eat\n",
      "ate | ate\n",
      "eats | eat\n"
     ]
    }
   ],
   "source": [
    "for word in words:\n",
    "    print(word, \"|\", porter_stem.stem(word))"
   ]
  },
  {
   "cell_type": "code",
   "execution_count": 8,
   "id": "2f1f51de",
   "metadata": {},
   "outputs": [],
   "source": [
    "spcy = spacy.load('en_core_web_sm')"
   ]
  },
  {
   "cell_type": "code",
   "execution_count": 12,
   "id": "048f9c1e",
   "metadata": {},
   "outputs": [
    {
     "name": "stdout",
     "output_type": "stream",
     "text": [
      "eating | eat\n",
      "living | live\n",
      "adjustable | adjustable\n",
      "ability | ability\n",
      "marketing | marketing\n",
      "meeting | meeting\n",
      "eat | eat\n",
      "ate | eat\n",
      "eats | eat\n"
     ]
    }
   ],
   "source": [
    "doc = spcy('eating living adjustable ability marketing meeting eat ate eats')\n",
    "for word in doc:\n",
    "    print(word,\"|\", word.lemma_)"
   ]
  },
  {
   "cell_type": "code",
   "execution_count": 13,
   "id": "53d4e99d",
   "metadata": {},
   "outputs": [
    {
     "data": {
      "text/plain": [
       "['tok2vec', 'tagger', 'parser', 'attribute_ruler', 'lemmatizer', 'ner']"
      ]
     },
     "execution_count": 13,
     "metadata": {},
     "output_type": "execute_result"
    }
   ],
   "source": [
    "spcy.pipe_names"
   ]
  },
  {
   "cell_type": "code",
   "execution_count": 14,
   "id": "4167af2c",
   "metadata": {},
   "outputs": [],
   "source": [
    "doc1 = spcy(\"Bro, you wanna go? Brah, don't say no! I am exhausted\")"
   ]
  },
  {
   "cell_type": "code",
   "execution_count": 15,
   "id": "da4abcce",
   "metadata": {},
   "outputs": [
    {
     "name": "stdout",
     "output_type": "stream",
     "text": [
      "Bro | bro\n",
      ", | ,\n",
      "you | you\n",
      "wanna | wanna\n",
      "go | go\n",
      "? | ?\n",
      "Brah | Brah\n",
      ", | ,\n",
      "do | do\n",
      "n't | not\n",
      "say | say\n",
      "no | no\n",
      "! | !\n",
      "I | I\n",
      "am | be\n",
      "exhausted | exhaust\n"
     ]
    }
   ],
   "source": [
    "for word in doc1:\n",
    "    print(word, \"|\", word.lemma_)\n",
    "    "
   ]
  },
  {
   "cell_type": "markdown",
   "id": "0ab21cb3",
   "metadata": {},
   "source": [
    "## customize existing pipeline"
   ]
  },
  {
   "cell_type": "code",
   "execution_count": 18,
   "id": "a88dceb3",
   "metadata": {},
   "outputs": [],
   "source": [
    "attr_pipe = spcy.get_pipe('attribute_ruler')"
   ]
  },
  {
   "cell_type": "code",
   "execution_count": 21,
   "id": "c6e597c4",
   "metadata": {},
   "outputs": [],
   "source": [
    "attr_pipe.add([[{'TEXT':'Bro'}],[{'TEXT':'Brah'}]],{'LEMMA':'BROTHER'})"
   ]
  },
  {
   "cell_type": "code",
   "execution_count": 22,
   "id": "fe83a137",
   "metadata": {},
   "outputs": [
    {
     "name": "stdout",
     "output_type": "stream",
     "text": [
      "Bro | BROTHER\n",
      ", | ,\n",
      "you | you\n",
      "wanna | wanna\n",
      "go | go\n",
      "? | ?\n",
      "Brah | BROTHER\n",
      ", | ,\n",
      "do | do\n",
      "n't | not\n",
      "say | say\n",
      "no | no\n",
      "! | !\n",
      "I | I\n",
      "am | be\n",
      "exhausted | exhaust\n"
     ]
    }
   ],
   "source": [
    "doc1 = spcy(\"Bro, you wanna go? Brah, don't say no! I am exhausted\")\n",
    "for word in doc1:\n",
    "    print(word, \"|\", word.lemma_)\n",
    "    "
   ]
  },
  {
   "cell_type": "code",
   "execution_count": 23,
   "id": "2b8b9370",
   "metadata": {},
   "outputs": [],
   "source": [
    "lst_words = ['running', 'painting', 'walking', 'dressing', 'likely', 'children', 'whom', 'good', 'ate', 'fishing']"
   ]
  },
  {
   "cell_type": "code",
   "execution_count": 24,
   "id": "57511a6a",
   "metadata": {},
   "outputs": [],
   "source": [
    "#NLTK"
   ]
  },
  {
   "cell_type": "code",
   "execution_count": 25,
   "id": "7b2441d7",
   "metadata": {},
   "outputs": [
    {
     "name": "stdout",
     "output_type": "stream",
     "text": [
      "running | run\n",
      "painting | paint\n",
      "walking | walk\n",
      "dressing | dress\n",
      "likely | like\n",
      "children | children\n",
      "whom | whom\n",
      "good | good\n",
      "ate | ate\n",
      "fishing | fish\n"
     ]
    }
   ],
   "source": [
    "for word in lst_words:\n",
    "    print(word, \"|\", porter_stem.stem(word))"
   ]
  },
  {
   "cell_type": "code",
   "execution_count": 27,
   "id": "5049d5f3",
   "metadata": {},
   "outputs": [],
   "source": [
    "doc = spcy(\"running painting walking dressing likely children who good ate fishing\")"
   ]
  },
  {
   "cell_type": "code",
   "execution_count": 28,
   "id": "597f0edc",
   "metadata": {},
   "outputs": [
    {
     "name": "stdout",
     "output_type": "stream",
     "text": [
      "running | run\n",
      "painting | paint\n",
      "walking | walk\n",
      "dressing | dress\n",
      "likely | likely\n",
      "children | child\n",
      "who | who\n",
      "good | good\n",
      "ate | eat\n",
      "fishing | fishing\n"
     ]
    }
   ],
   "source": [
    "for word in doc:\n",
    "    print(word, \"|\", word.lemma_)"
   ]
  },
  {
   "cell_type": "code",
   "execution_count": 29,
   "id": "34a5aa55",
   "metadata": {},
   "outputs": [],
   "source": [
    "ar = spcy.get_pipe('attribute_ruler')"
   ]
  },
  {
   "cell_type": "code",
   "execution_count": 36,
   "id": "37c44459",
   "metadata": {},
   "outputs": [],
   "source": [
    "ar.add([[{'TEXT':'LIKELY'}],[{'TEXT':'likely'}]],{'LEMMA':'Like'})"
   ]
  },
  {
   "cell_type": "code",
   "execution_count": 37,
   "id": "438540d7",
   "metadata": {},
   "outputs": [],
   "source": [
    "doc = spcy(\"running painting walking dressing likely children who good ate fishing\")"
   ]
  },
  {
   "cell_type": "code",
   "execution_count": 38,
   "id": "1cd85f45",
   "metadata": {},
   "outputs": [
    {
     "name": "stdout",
     "output_type": "stream",
     "text": [
      "running | run\n",
      "painting | paint\n",
      "walking | walk\n",
      "dressing | dress\n",
      "likely | Like\n",
      "children | child\n",
      "who | who\n",
      "good | good\n",
      "ate | eat\n",
      "fishing | fishing\n"
     ]
    }
   ],
   "source": [
    "for word in doc:\n",
    "    print(word, \"|\", word.lemma_)"
   ]
  },
  {
   "cell_type": "code",
   "execution_count": null,
   "id": "f58cc84b",
   "metadata": {},
   "outputs": [],
   "source": []
  }
 ],
 "metadata": {
  "kernelspec": {
   "display_name": "Python 3 (ipykernel)",
   "language": "python",
   "name": "python3"
  },
  "language_info": {
   "codemirror_mode": {
    "name": "ipython",
    "version": 3
   },
   "file_extension": ".py",
   "mimetype": "text/x-python",
   "name": "python",
   "nbconvert_exporter": "python",
   "pygments_lexer": "ipython3",
   "version": "3.9.13"
  }
 },
 "nbformat": 4,
 "nbformat_minor": 5
}
